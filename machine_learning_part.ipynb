{
 "cells": [
  {
   "cell_type": "code",
   "execution_count": 2,
   "metadata": {},
   "outputs": [
    {
     "data": {
      "text/html": [
       "<div>\n",
       "<style>\n",
       "    .dataframe thead tr:only-child th {\n",
       "        text-align: right;\n",
       "    }\n",
       "\n",
       "    .dataframe thead th {\n",
       "        text-align: left;\n",
       "    }\n",
       "\n",
       "    .dataframe tbody tr th {\n",
       "        vertical-align: top;\n",
       "    }\n",
       "</style>\n",
       "<table border=\"1\" class=\"dataframe\">\n",
       "  <thead>\n",
       "    <tr style=\"text-align: right;\">\n",
       "      <th></th>\n",
       "      <th>educations-end_date</th>\n",
       "      <th>educations-field_of_study</th>\n",
       "      <th>educations-school-name</th>\n",
       "      <th>positions-is-current</th>\n",
       "      <th>num-connections</th>\n",
       "      <th>industry-specialization</th>\n",
       "    </tr>\n",
       "  </thead>\n",
       "  <tbody>\n",
       "    <tr>\n",
       "      <th>0</th>\n",
       "      <td>31/12/2013</td>\n",
       "      <td>16</td>\n",
       "      <td>NEW NORTHERN MINDANAO COLLEGES</td>\n",
       "      <td>0</td>\n",
       "      <td>0</td>\n",
       "      <td>5</td>\n",
       "    </tr>\n",
       "    <tr>\n",
       "      <th>1</th>\n",
       "      <td>31/12/2012</td>\n",
       "      <td>16</td>\n",
       "      <td>CENTRAL PHILIPPINE UNIVERSITY</td>\n",
       "      <td>1</td>\n",
       "      <td>3</td>\n",
       "      <td>6</td>\n",
       "    </tr>\n",
       "    <tr>\n",
       "      <th>2</th>\n",
       "      <td>31/12/2006</td>\n",
       "      <td>0</td>\n",
       "      <td>INTERNATIONAL CORRESPONDENCE SCHOOLS</td>\n",
       "      <td>0</td>\n",
       "      <td>11</td>\n",
       "      <td>16</td>\n",
       "    </tr>\n",
       "    <tr>\n",
       "      <th>3</th>\n",
       "      <td>31/12/1987</td>\n",
       "      <td>6</td>\n",
       "      <td>UNIVERSITY OF THE PHILIPPINES</td>\n",
       "      <td>0</td>\n",
       "      <td>36</td>\n",
       "      <td>4</td>\n",
       "    </tr>\n",
       "    <tr>\n",
       "      <th>4</th>\n",
       "      <td>31/12/1994</td>\n",
       "      <td>0</td>\n",
       "      <td>POLYTECHNIC UNIVERSITY OF THE PHILIPPINES</td>\n",
       "      <td>1</td>\n",
       "      <td>0</td>\n",
       "      <td>0</td>\n",
       "    </tr>\n",
       "  </tbody>\n",
       "</table>\n",
       "</div>"
      ],
      "text/plain": [
       "  educations-end_date  educations-field_of_study  \\\n",
       "0          31/12/2013                         16   \n",
       "1          31/12/2012                         16   \n",
       "2          31/12/2006                          0   \n",
       "3          31/12/1987                          6   \n",
       "4          31/12/1994                          0   \n",
       "\n",
       "                      educations-school-name  positions-is-current  \\\n",
       "0             NEW NORTHERN MINDANAO COLLEGES                     0   \n",
       "1              CENTRAL PHILIPPINE UNIVERSITY                     1   \n",
       "2       INTERNATIONAL CORRESPONDENCE SCHOOLS                     0   \n",
       "3              UNIVERSITY OF THE PHILIPPINES                     0   \n",
       "4  POLYTECHNIC UNIVERSITY OF THE PHILIPPINES                     1   \n",
       "\n",
       "  num-connections  industry-specialization  \n",
       "0               0                        5  \n",
       "1               3                        6  \n",
       "2              11                       16  \n",
       "3              36                        4  \n",
       "4               0                        0  "
      ]
     },
     "execution_count": 2,
     "metadata": {},
     "output_type": "execute_result"
    }
   ],
   "source": [
    "import pandas as pd\n",
    "\n",
    "data = pd.read_csv('philippine_file.csv')\n",
    "data.head()"
   ]
  },
  {
   "cell_type": "code",
   "execution_count": null,
   "metadata": {
    "collapsed": true
   },
   "outputs": [],
   "source": [
    "from sklearn.model_selection import train_test_split\n",
    "\n"
   ]
  }
 ],
 "metadata": {
  "kernelspec": {
   "display_name": "Python 3",
   "language": "python",
   "name": "python3"
  },
  "language_info": {
   "codemirror_mode": {
    "name": "ipython",
    "version": 3
   },
   "file_extension": ".py",
   "mimetype": "text/x-python",
   "name": "python",
   "nbconvert_exporter": "python",
   "pygments_lexer": "ipython3",
   "version": "3.6.1"
  }
 },
 "nbformat": 4,
 "nbformat_minor": 2
}
