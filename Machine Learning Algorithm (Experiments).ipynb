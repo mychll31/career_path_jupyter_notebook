{
 "cells": [
  {
   "cell_type": "markdown",
   "metadata": {},
   "source": [
    "## Prediction of possibility of working based on years after graduation, field of study, number of connections (in LinkedIn), work specialization, school"
   ]
  },
  {
   "cell_type": "markdown",
   "metadata": {},
   "source": [
    "#### Learning Algorithm: Gaussian Naive Bayes"
   ]
  },
  {
   "cell_type": "code",
   "execution_count": 1,
   "metadata": {
    "scrolled": true
   },
   "outputs": [
    {
     "data": {
      "text/html": [
       "<div>\n",
       "<style>\n",
       "    .dataframe thead tr:only-child th {\n",
       "        text-align: right;\n",
       "    }\n",
       "\n",
       "    .dataframe thead th {\n",
       "        text-align: left;\n",
       "    }\n",
       "\n",
       "    .dataframe tbody tr th {\n",
       "        vertical-align: top;\n",
       "    }\n",
       "</style>\n",
       "<table border=\"1\" class=\"dataframe\">\n",
       "  <thead>\n",
       "    <tr style=\"text-align: right;\">\n",
       "      <th></th>\n",
       "      <th>educations-end_date</th>\n",
       "      <th>educations-field_of_study</th>\n",
       "      <th>num-connections</th>\n",
       "      <th>industry-specialization</th>\n",
       "      <th>educations-school-name_asnumeric</th>\n",
       "      <th>positions_is_current</th>\n",
       "    </tr>\n",
       "  </thead>\n",
       "  <tbody>\n",
       "    <tr>\n",
       "      <th>0</th>\n",
       "      <td>1</td>\n",
       "      <td>16</td>\n",
       "      <td>0</td>\n",
       "      <td>5</td>\n",
       "      <td>25</td>\n",
       "      <td>0</td>\n",
       "    </tr>\n",
       "    <tr>\n",
       "      <th>1</th>\n",
       "      <td>2</td>\n",
       "      <td>16</td>\n",
       "      <td>3</td>\n",
       "      <td>6</td>\n",
       "      <td>25</td>\n",
       "      <td>1</td>\n",
       "    </tr>\n",
       "    <tr>\n",
       "      <th>2</th>\n",
       "      <td>27</td>\n",
       "      <td>6</td>\n",
       "      <td>36</td>\n",
       "      <td>4</td>\n",
       "      <td>24</td>\n",
       "      <td>0</td>\n",
       "    </tr>\n",
       "    <tr>\n",
       "      <th>3</th>\n",
       "      <td>20</td>\n",
       "      <td>0</td>\n",
       "      <td>0</td>\n",
       "      <td>0</td>\n",
       "      <td>14</td>\n",
       "      <td>1</td>\n",
       "    </tr>\n",
       "    <tr>\n",
       "      <th>4</th>\n",
       "      <td>12</td>\n",
       "      <td>16</td>\n",
       "      <td>5</td>\n",
       "      <td>5</td>\n",
       "      <td>24</td>\n",
       "      <td>0</td>\n",
       "    </tr>\n",
       "  </tbody>\n",
       "</table>\n",
       "</div>"
      ],
      "text/plain": [
       "   educations-end_date  educations-field_of_study  num-connections  \\\n",
       "0                    1                         16                0   \n",
       "1                    2                         16                3   \n",
       "2                   27                          6               36   \n",
       "3                   20                          0                0   \n",
       "4                   12                         16                5   \n",
       "\n",
       "   industry-specialization  educations-school-name_asnumeric  \\\n",
       "0                        5                                25   \n",
       "1                        6                                25   \n",
       "2                        4                                24   \n",
       "3                        0                                14   \n",
       "4                        5                                24   \n",
       "\n",
       "   positions_is_current  \n",
       "0                     0  \n",
       "1                     1  \n",
       "2                     0  \n",
       "3                     1  \n",
       "4                     0  "
      ]
     },
     "execution_count": 1,
     "metadata": {},
     "output_type": "execute_result"
    }
   ],
   "source": [
    "import pandas as pd\n",
    "\n",
    "data = pd.read_csv('philippine_file.csv')\n",
    "data.head()\n"
   ]
  },
  {
   "cell_type": "code",
   "execution_count": 14,
   "metadata": {
    "scrolled": true
   },
   "outputs": [
    {
     "data": {
      "text/plain": [
       "array([0, 0, 0, 0, 0, 0, 0, 0, 0, 0, 0, 0, 0, 0, 0, 0, 0, 0, 0, 0, 0, 0, 0,\n",
       "       0, 0, 0, 0, 0, 0, 0, 0, 0, 0, 0, 0, 0, 0, 0, 0, 0, 0, 0, 0, 0, 0, 0,\n",
       "       0, 0, 0, 0, 0, 0, 0, 0, 0, 0, 0, 0, 0, 0, 0, 0, 0, 0, 0, 0, 0, 0, 0,\n",
       "       0, 0, 0, 0, 0, 0, 0, 0, 0, 0, 0, 0, 0, 0, 0, 0, 0, 0, 0, 0, 0, 0, 0,\n",
       "       0, 0, 0, 0, 0, 0, 0, 0, 0, 0, 0, 0, 0, 0, 0, 0, 0, 0, 0, 0, 0, 0, 0,\n",
       "       0, 0, 0, 0, 0, 0, 0, 0, 0, 0, 0, 0, 0, 0, 0, 0, 0, 0, 0, 0, 0, 0, 0,\n",
       "       0, 0, 0, 0, 0, 0, 0, 0, 0, 0, 0, 0, 0, 0, 0, 0, 0, 0, 0, 0, 0, 0, 0,\n",
       "       0, 0, 0, 0, 0, 0, 0, 0, 0, 0, 0, 0, 0, 0, 0, 0, 0, 0, 0, 0, 0, 0, 0,\n",
       "       0, 0, 0, 0, 0, 0, 0, 0, 0, 0, 0, 0, 0, 0, 0, 0, 0, 0, 0, 0, 0, 0, 0,\n",
       "       0, 0, 0, 0, 0, 0, 0, 0, 0, 0, 0, 0, 0, 0, 0, 0, 0, 0, 0, 0, 0, 0, 0,\n",
       "       0, 0, 0, 0, 0, 0, 0, 0, 0, 0, 0, 0, 0, 0, 0, 0, 0, 0, 0, 0, 0, 0, 0,\n",
       "       0, 0, 0, 0, 0, 0, 0, 0, 0, 0, 0, 0, 0, 0, 0, 0, 0, 0, 0, 0, 0, 0, 0,\n",
       "       0, 0, 0, 0, 0, 0, 0, 0, 0, 0, 0, 0, 0, 0, 0, 0, 0, 0, 0, 0, 0, 0, 0,\n",
       "       0, 0, 0, 0, 0, 0, 0, 0, 0, 0, 0, 0, 0, 0, 0, 0, 0, 0, 0, 0, 0, 0, 0,\n",
       "       0, 0, 0, 0, 0, 0, 0, 0, 0, 0, 0, 0, 0, 0, 0, 0, 0, 0, 0, 0, 0, 0, 0,\n",
       "       0, 0, 0, 0, 0, 0, 0, 0, 0, 0, 0, 0, 0, 0, 0, 0, 0, 0, 0, 0, 0, 0, 0,\n",
       "       0, 0, 0, 0, 0, 0, 0, 0, 0, 0, 0, 0, 0, 0, 0, 0, 0, 0, 0, 0, 0, 0, 0,\n",
       "       0, 0, 0, 0, 0, 0, 0, 0, 0, 0, 0, 0, 0, 0, 0, 0, 0, 0, 0, 0, 0, 0, 0,\n",
       "       0, 0, 0, 0, 0, 0, 0, 0, 0, 0, 0, 0, 0, 0, 0, 0, 0, 0, 0, 0, 0, 0, 0,\n",
       "       0, 0, 0, 0, 0, 0, 0, 0, 0, 0, 0, 0, 0, 0, 0, 0, 0, 0, 0, 0, 0, 0, 0,\n",
       "       0, 0, 0, 0, 0, 0, 0, 0, 0, 0, 0, 0, 0, 0, 0, 0, 0, 0, 0, 0, 0, 0, 0,\n",
       "       0, 0, 0, 0, 0, 0, 0, 0, 0, 0, 0, 0, 0, 0, 0, 0, 0, 0, 0, 0, 0, 0, 0,\n",
       "       0, 0, 0, 0, 0, 0, 0, 0, 0, 0, 0, 0, 0, 0, 0, 0, 0, 0, 0, 0, 0, 0, 0,\n",
       "       0, 0, 0, 0, 0, 0, 0, 0, 0, 0, 0, 0, 0, 0, 0, 0, 0, 0, 0, 0, 0, 0, 0,\n",
       "       0, 0, 0, 0, 0, 0, 0, 0, 0, 0, 0, 0, 0, 0, 0, 0, 0, 0, 0, 0, 0, 0, 0,\n",
       "       0, 0, 0, 0, 0, 0, 0, 0, 0, 0, 0, 0, 0, 0, 0, 0, 0, 0, 0, 0, 0, 0, 0,\n",
       "       0, 0, 0, 0, 0])"
      ]
     },
     "execution_count": 14,
     "metadata": {},
     "output_type": "execute_result"
    }
   ],
   "source": [
    "from sklearn.model_selection import train_test_split\n",
    "\n",
    "X_train, X_test, y_train, y_test = train_test_split(data[['educations-field_of_study', 'num-connections', 'industry-specialization', 'educations-school-name_asnumeric']], data[['positions_is_current']], test_size=0.3, random_state=427)\n",
    "\n",
    "y_train = y_train.values.flatten() # Just some trivial data formatting..\n",
    "y_test = y_test.values.flatten()\n",
    "\n",
    "from sklearn.naive_bayes import GaussianNB\n",
    "gnb = GaussianNB()\n",
    "\n",
    "gnb.fit(X_train, y_train)\n",
    "\n",
    "y_score = gnb.predict(X_test)\n",
    "y_score"
   ]
  },
  {
   "cell_type": "code",
   "execution_count": 15,
   "metadata": {},
   "outputs": [
    {
     "data": {
      "text/plain": [
       "array([[ 0.74958041,  0.25041959],\n",
       "       [ 0.63715682,  0.36284318],\n",
       "       [ 0.66054519,  0.33945481],\n",
       "       ..., \n",
       "       [ 0.63202801,  0.36797199],\n",
       "       [ 0.64228451,  0.35771549],\n",
       "       [ 0.83868444,  0.16131556]])"
      ]
     },
     "execution_count": 15,
     "metadata": {},
     "output_type": "execute_result"
    }
   ],
   "source": [
    "gnb.predict_proba(X_test)"
   ]
  },
  {
   "cell_type": "code",
   "execution_count": 16,
   "metadata": {},
   "outputs": [
    {
     "name": "stdout",
     "output_type": "stream",
     "text": [
      "             precision    recall  f1-score   support\n",
      "\n",
      "       True     0.7944    1.0000    0.8854       479\n",
      "      False     0.0000    0.0000    0.0000       124\n",
      "\n",
      "avg / total     0.6310    0.7944    0.7033       603\n",
      "\n"
     ]
    },
    {
     "name": "stderr",
     "output_type": "stream",
     "text": [
      "/Users/zenitharnejo/anaconda/lib/python3.6/site-packages/sklearn/metrics/classification.py:1113: UndefinedMetricWarning: Precision and F-score are ill-defined and being set to 0.0 in labels with no predicted samples.\n",
      "  'precision', 'predicted', average, warn_for)\n"
     ]
    }
   ],
   "source": [
    "from sklearn import datasets, metrics\n",
    "classification = [\"True\", \"False\"]\n",
    "print(metrics.classification_report(y_test, y_score, target_names=classification, digits=4))"
   ]
  },
  {
   "cell_type": "code",
   "execution_count": 17,
   "metadata": {},
   "outputs": [
    {
     "name": "stdout",
     "output_type": "stream",
     "text": [
      "[[479 124]\n",
      " [  0   0]]\n"
     ]
    }
   ],
   "source": [
    "pred = gnb.predict(X_test)\n",
    "print(metrics.confusion_matrix(pred, y_test))"
   ]
  },
  {
   "cell_type": "markdown",
   "metadata": {},
   "source": [
    "#### Learning Algorithm: Support Vector Machines"
   ]
  },
  {
   "cell_type": "code",
   "execution_count": 76,
   "metadata": {},
   "outputs": [
    {
     "name": "stdout",
     "output_type": "stream",
     "text": [
      "[[450 153]\n",
      " [  0   0]]\n",
      "0.746268656716\n",
      "[0]\n",
      "test input(class):  0\n",
      "test input(data): \n"
     ]
    },
    {
     "data": {
      "text/plain": [
       "2007"
      ]
     },
     "execution_count": 76,
     "metadata": {},
     "output_type": "execute_result"
    }
   ],
   "source": [
    "import numpy as np\n",
    "from sklearn import svm\n",
    "import math\n",
    "import pandas as pd\n",
    "from sklearn import datasets, metrics\n",
    "\n",
    "filedata = 'philippine_file.csv'\n",
    "data = pd.read_csv(filedata)\n",
    "data.columns.values\n",
    "\n",
    "n = len(data)\n",
    "num_train = int(0.70*n)\n",
    "\n",
    "data = data.sample(frac=1).reset_index(drop=True)\n",
    "classes = data[\"positions_is_current\"]\n",
    "\n",
    "y = data[\"positions_is_current\"][:num_train]\n",
    "y_test = data[\"positions_is_current\"][num_train:]\n",
    "del data[\"positions_is_current\"]\n",
    "X = data[:num_train]\n",
    "X_test = data[num_train:]\n",
    "\n",
    "model = svm.SVC(kernel='linear',C=15).fit(X,y)\n",
    "#model = svm.SVC(kernel='poly',C=1, degree=2, probability=True).fit(X,y)\n",
    "#model = svm.SVC(kernel='rbf',C=100, gamma=4).fit(X,y)\n",
    "\n",
    "model.fit(X, y)\n",
    "pred = model.predict(X_test)\n",
    "print(metrics.confusion_matrix(pred, y_test))\n",
    "print(model.score(X_test,y_test))\n",
    "trial = data.head(1)\n",
    "print(model.predict(trial))\n",
    "print(\"test input(class): \", classes[1])\n",
    "print(\"test input(data): \")\n",
    "data.head(1)\n",
    "len(data)"
   ]
  },
  {
   "cell_type": "markdown",
   "metadata": {},
   "source": [
    "#### Learning Algorithm: Artificial Neural Network"
   ]
  },
  {
   "cell_type": "code",
   "execution_count": 78,
   "metadata": {},
   "outputs": [],
   "source": [
    "import pandas as pd\n",
    "\n",
    "data = pd.read_csv('philippine_file.csv')"
   ]
  },
  {
   "cell_type": "code",
   "execution_count": 80,
   "metadata": {},
   "outputs": [
    {
     "data": {
      "text/plain": [
       "0       0\n",
       "1       1\n",
       "2       0\n",
       "3       1\n",
       "4       0\n",
       "5       1\n",
       "6       0\n",
       "7       0\n",
       "8       0\n",
       "9       1\n",
       "10      0\n",
       "11      1\n",
       "12      0\n",
       "13      1\n",
       "14      0\n",
       "15      0\n",
       "16      1\n",
       "17      0\n",
       "18      0\n",
       "19      0\n",
       "20      0\n",
       "21      1\n",
       "22      1\n",
       "23      0\n",
       "24      0\n",
       "25      0\n",
       "26      0\n",
       "27      1\n",
       "28      0\n",
       "29      0\n",
       "       ..\n",
       "1977    0\n",
       "1978    0\n",
       "1979    1\n",
       "1980    0\n",
       "1981    1\n",
       "1982    1\n",
       "1983    0\n",
       "1984    0\n",
       "1985    1\n",
       "1986    0\n",
       "1987    1\n",
       "1988    0\n",
       "1989    1\n",
       "1990    0\n",
       "1991    0\n",
       "1992    0\n",
       "1993    0\n",
       "1994    0\n",
       "1995    1\n",
       "1996    1\n",
       "1997    0\n",
       "1998    0\n",
       "1999    1\n",
       "2000    0\n",
       "2001    0\n",
       "2002    0\n",
       "2003    0\n",
       "2004    0\n",
       "2005    1\n",
       "2006    1\n",
       "Name: positions_is_current, Length: 2007, dtype: int64"
      ]
     },
     "execution_count": 80,
     "metadata": {},
     "output_type": "execute_result"
    }
   ],
   "source": [
    "x = data.drop('positions_is_current',axis=1) #axis=1 tells the translator that a column will be dropped, 0 if row\n",
    "y = data['positions_is_current']\n",
    "y"
   ]
  },
  {
   "cell_type": "code",
   "execution_count": 81,
   "metadata": {},
   "outputs": [
    {
     "data": {
      "text/plain": [
       "array([[ 0.16666667,  0.5       ,  1.        ,  1.        ,  1.        ],\n",
       "       [ 0.1875    ,  0.25      ,  0.006     ,  0.25      ,  0.96      ],\n",
       "       [ 0.35416667,  1.        ,  0.002     ,  0.25      ,  1.        ],\n",
       "       ..., \n",
       "       [ 0.10416667,  1.        ,  0.24      ,  0.375     ,  0.12      ],\n",
       "       [ 0.3125    ,  1.        ,  0.008     ,  1.        ,  1.        ],\n",
       "       [ 0.22916667,  1.        ,  0.218     ,  0.1875    ,  0.48      ]])"
      ]
     },
     "execution_count": 81,
     "metadata": {},
     "output_type": "execute_result"
    }
   ],
   "source": [
    "from sklearn.model_selection import train_test_split\n",
    "\n",
    "x_train, x_test, y_train, y_test = train_test_split(x,y)\n",
    "\n",
    "from sklearn.preprocessing import StandardScaler\n",
    "from sklearn.preprocessing import MinMaxScaler\n",
    "scaler = MinMaxScaler()#StandardScaler()\n",
    "scaler.fit(x_train)\n",
    "\n",
    "x_train = scaler.transform(x_train)\n",
    "x_test = scaler.transform(x_test)\n",
    "x_test"
   ]
  },
  {
   "cell_type": "code",
   "execution_count": 82,
   "metadata": {},
   "outputs": [
    {
     "name": "stdout",
     "output_type": "stream",
     "text": [
      "[0 0 0 0 0 0 0 0 0 0 0 0 0 0 0 0 0 0 0 0 0 0 0 0 0 0 0 0 0 0 0 0 0 0 0 0 0\n",
      " 0 0 0 0 0 0 0 0 0 0 0 0 0 0 0 0 0 0 0 0 0 0 0 0 0 0 0 0 0 0 0 0 0 0 0 0 0\n",
      " 0 0 0 0 0 0 0 0 0 0 0 0 0 0 0 0 0 0 0 0 0 0 0 0 0 0 0 0 0 0 0 0 0 0 0 0 0\n",
      " 0 0 0 0 0 0 0 0 0 0 0 0 0 0 0 0 0 0 0 0 0 0 0 0 0 0 0 0 0 0 0 0 0 0 0 0 0\n",
      " 0 0 0 0 0 0 0 0 0 0 0 0 0 0 0 0 0 0 0 0 0 0 0 0 0 0 0 0 0 0 0 0 0 0 0 0 0\n",
      " 0 0 0 0 0 0 0 0 0 0 0 0 0 0 0 0 0 0 0 0 0 0 0 0 0 0 0 0 0 0 0 0 0 0 0 0 0\n",
      " 0 0 0 0 0 0 0 0 0 0 0 0 0 0 0 0 0 0 0 0 0 0 0 0 0 0 0 0 0 0 0 0 0 0 0 0 0\n",
      " 0 0 0 0 0 0 0 0 0 0 0 0 0 0 0 0 0 0 0 0 0 0 0 0 0 0 0 0 0 0 0 0 0 0 0 0 0\n",
      " 0 0 0 0 0 0 0 0 0 0 0 0 0 0 0 0 0 0 0 0 0 0 0 0 0 0 0 0 0 0 0 0 0 0 0 0 0\n",
      " 0 0 0 0 0 0 0 0 0 0 0 0 0 0 0 0 0 0 0 0 0 0 0 0 0 0 0 0 0 0 0 0 0 0 0 0 0\n",
      " 0 0 0 0 0 0 0 0 0 0 0 0 0 0 0 0 0 0 0 0 0 0 0 0 0 0 0 0 0 0 0 0 0 0 0 0 0\n",
      " 0 0 0 0 0 0 0 0 0 0 0 0 0 0 0 0 0 0 0 0 0 0 0 0 0 0 0 0 0 0 0 0 0 0 0 0 0\n",
      " 0 0 0 0 0 0 0 0 0 0 0 0 0 0 0 0 0 0 0 0 0 0 0 0 0 0 0 0 0 0 0 0 0 0 0 0 0\n",
      " 0 0 0 0 0 0 0 0 0 0 0 0 0 0 0 0 0 0 0 0 0]\n"
     ]
    }
   ],
   "source": [
    "from sklearn.neural_network import MLPClassifier\n",
    "\n",
    "mlp = MLPClassifier(hidden_layer_sizes=(5),max_iter=5000,learning_rate_init=0.1,activation='tanh')\n",
    "mlp.fit(x_train,y_train)\n",
    "\n",
    "predictions = mlp.predict(x_test)\n",
    "print(predictions)"
   ]
  },
  {
   "cell_type": "code",
   "execution_count": 83,
   "metadata": {},
   "outputs": [
    {
     "name": "stdout",
     "output_type": "stream",
     "text": [
      "[[399   0]\n",
      " [103   0]]\n",
      "             precision    recall  f1-score   support\n",
      "\n",
      "          0       0.79      1.00      0.89       399\n",
      "          1       0.00      0.00      0.00       103\n",
      "\n",
      "avg / total       0.63      0.79      0.70       502\n",
      "\n"
     ]
    },
    {
     "name": "stderr",
     "output_type": "stream",
     "text": [
      "/Users/zenitharnejo/anaconda/lib/python3.6/site-packages/sklearn/metrics/classification.py:1113: UndefinedMetricWarning: Precision and F-score are ill-defined and being set to 0.0 in labels with no predicted samples.\n",
      "  'precision', 'predicted', average, warn_for)\n"
     ]
    }
   ],
   "source": [
    "from sklearn.metrics import classification_report,confusion_matrix\n",
    "\n",
    "print (confusion_matrix(y_test,predictions))\n",
    "print(classification_report(y_test,predictions))"
   ]
  },
  {
   "cell_type": "markdown",
   "metadata": {},
   "source": [
    "## Prediction of work specialization based on field of study, school, year after graduation, educations-end_date"
   ]
  },
  {
   "cell_type": "markdown",
   "metadata": {},
   "source": [
    "#### Learning Algorithm: Multinomial Naive Bayes"
   ]
  },
  {
   "cell_type": "code",
   "execution_count": 38,
   "metadata": {},
   "outputs": [
    {
     "data": {
      "text/html": [
       "<div>\n",
       "<style>\n",
       "    .dataframe thead tr:only-child th {\n",
       "        text-align: right;\n",
       "    }\n",
       "\n",
       "    .dataframe thead th {\n",
       "        text-align: left;\n",
       "    }\n",
       "\n",
       "    .dataframe tbody tr th {\n",
       "        vertical-align: top;\n",
       "    }\n",
       "</style>\n",
       "<table border=\"1\" class=\"dataframe\">\n",
       "  <thead>\n",
       "    <tr style=\"text-align: right;\">\n",
       "      <th></th>\n",
       "      <th>educations-end_date</th>\n",
       "      <th>educations-field_of_study</th>\n",
       "      <th>num-connections</th>\n",
       "      <th>industry-specialization</th>\n",
       "      <th>educations-school-name_asnumeric</th>\n",
       "      <th>positions_is_current</th>\n",
       "    </tr>\n",
       "  </thead>\n",
       "  <tbody>\n",
       "    <tr>\n",
       "      <th>0</th>\n",
       "      <td>1</td>\n",
       "      <td>16</td>\n",
       "      <td>0</td>\n",
       "      <td>5</td>\n",
       "      <td>25</td>\n",
       "      <td>0</td>\n",
       "    </tr>\n",
       "    <tr>\n",
       "      <th>1</th>\n",
       "      <td>2</td>\n",
       "      <td>16</td>\n",
       "      <td>3</td>\n",
       "      <td>6</td>\n",
       "      <td>25</td>\n",
       "      <td>1</td>\n",
       "    </tr>\n",
       "    <tr>\n",
       "      <th>2</th>\n",
       "      <td>27</td>\n",
       "      <td>6</td>\n",
       "      <td>36</td>\n",
       "      <td>4</td>\n",
       "      <td>24</td>\n",
       "      <td>0</td>\n",
       "    </tr>\n",
       "    <tr>\n",
       "      <th>3</th>\n",
       "      <td>20</td>\n",
       "      <td>0</td>\n",
       "      <td>0</td>\n",
       "      <td>0</td>\n",
       "      <td>14</td>\n",
       "      <td>1</td>\n",
       "    </tr>\n",
       "    <tr>\n",
       "      <th>4</th>\n",
       "      <td>12</td>\n",
       "      <td>16</td>\n",
       "      <td>5</td>\n",
       "      <td>5</td>\n",
       "      <td>24</td>\n",
       "      <td>0</td>\n",
       "    </tr>\n",
       "  </tbody>\n",
       "</table>\n",
       "</div>"
      ],
      "text/plain": [
       "   educations-end_date  educations-field_of_study  num-connections  \\\n",
       "0                    1                         16                0   \n",
       "1                    2                         16                3   \n",
       "2                   27                          6               36   \n",
       "3                   20                          0                0   \n",
       "4                   12                         16                5   \n",
       "\n",
       "   industry-specialization  educations-school-name_asnumeric  \\\n",
       "0                        5                                25   \n",
       "1                        6                                25   \n",
       "2                        4                                24   \n",
       "3                        0                                14   \n",
       "4                        5                                24   \n",
       "\n",
       "   positions_is_current  \n",
       "0                     0  \n",
       "1                     1  \n",
       "2                     0  \n",
       "3                     1  \n",
       "4                     0  "
      ]
     },
     "execution_count": 38,
     "metadata": {},
     "output_type": "execute_result"
    }
   ],
   "source": [
    "import pandas as pd\n",
    "\n",
    "data = pd.read_csv('philippine_file.csv')\n",
    "data.head()"
   ]
  },
  {
   "cell_type": "code",
   "execution_count": 44,
   "metadata": {},
   "outputs": [
    {
     "name": "stdout",
     "output_type": "stream",
     "text": [
      "X_train  (4212,)\n",
      "y_train  (1404,)\n"
     ]
    }
   ],
   "source": [
    "from sklearn.model_selection import train_test_split\n",
    "X_train, X_test, y_train, y_test = train_test_split(data[['educations-field_of_study', 'educations-school-name_asnumeric', 'educations-end_date']], data[['industry-specialization']], test_size=0.3, random_state=427)\n",
    "\n",
    "y_train = y_train.values.flatten() # Just some trivial data formatting..\n",
    "y_test = y_test.values.flatten()\n",
    "X_train = X_train.values.flatten() # Just some trivial data formatting..\n",
    "X_test = X_test.values.flatten()\n",
    "\n",
    "print(\"X_train \", X_train.shape)\n",
    "print(\"y_train \", y_train.shape)\n",
    "\n"
   ]
  },
  {
   "cell_type": "code",
   "execution_count": 45,
   "metadata": {},
   "outputs": [],
   "source": [
    "# Importing packages necessary for building the model\n",
    "from sklearn.feature_extraction.text import CountVectorizer #converts the content to vector\n",
    "from sklearn.naive_bayes import MultinomialNB \n",
    "from sklearn.pipeline import Pipeline #vectorize then multinomialNB; as in a pipelined steps\n",
    "\n",
    "text_clf = Pipeline([('vect_tfid', CountVectorizer()),\n",
    "                     ('clf', MultinomialNB())]) #alpha automatically signals laplace correction, include alpha as parameter\n",
    "\n",
    "text_clf = text_clf.fit(X_train, y_train) #fit the model to the training set\n"
   ]
  },
  {
   "cell_type": "code",
   "execution_count": null,
   "metadata": {
    "collapsed": true
   },
   "outputs": [],
   "source": [
    "#text_clf is the generated model\n",
    "y_predicted = text_clf.predict(X_test) #get predicted classes\n",
    "y_predicted"
   ]
  },
  {
   "cell_type": "markdown",
   "metadata": {},
   "source": [
    "#### Learning Algorithm: Support Vector Machines (SVM)"
   ]
  },
  {
   "cell_type": "code",
   "execution_count": 64,
   "metadata": {},
   "outputs": [
    {
     "name": "stdout",
     "output_type": "stream",
     "text": [
      "[[  0   0   0   0   0   0   0   0   0   0   0   0   0   0   0   0   0]\n",
      " [  0   0   0   0   0   0   0   0   0   0   0   0   0   0   0   0   0]\n",
      " [  0   0   0   0   0   0   0   0   0   0   0   0   0   0   0   0   0]\n",
      " [  0   0   0   0   0   0   0   0   0   0   0   0   0   0   0   0   0]\n",
      " [ 45   9  14   9 117  13  11  17  18  11  12   4   0   3   4  14  68]\n",
      " [  0   0   0   0   0   0   0   0   0   0   0   0   0   0   0   0   0]\n",
      " [  0   0   0   0   0   0   0   0   0   0   0   0   0   0   0   0   0]\n",
      " [  0   0   0   0   0   0   0   0   0   0   0   0   0   0   0   0   0]\n",
      " [  0   0   0   0   0   0   0   0   0   0   0   0   0   0   0   0   0]\n",
      " [  0   0   0   0   0   0   0   0   0   0   0   0   0   0   0   0   0]\n",
      " [  0   0   0   0   0   0   0   0   0   0   0   0   0   0   0   0   0]\n",
      " [  0   0   0   0   0   0   0   0   0   0   0   0   0   0   0   0   0]\n",
      " [  0   0   0   0   0   0   0   0   0   0   0   0   0   0   0   0   0]\n",
      " [  0   0   0   0   0   0   0   0   0   0   0   0   0   0   0   0   0]\n",
      " [  0   0   0   0   0   0   0   0   0   0   0   0   0   0   0   0   0]\n",
      " [  0   0   0   0   0   0   0   0   0   0   0   0   0   0   0   0   0]\n",
      " [ 57  22  15   6  63  29   6  31  17   6  19   6   4   1  16  15 121]]\n",
      "0.296388542964\n",
      "[4]\n",
      "test input(class):  16\n"
     ]
    },
    {
     "name": "stderr",
     "output_type": "stream",
     "text": [
      "/Users/zenitharnejo/anaconda/lib/python3.6/site-packages/sklearn/utils/validation.py:429: DataConversionWarning: Data with input dtype int64 was converted to float64 by MinMaxScaler.\n",
      "  warnings.warn(msg, _DataConversionWarning)\n"
     ]
    }
   ],
   "source": [
    "import pandas as pd\n",
    "from sklearn import preprocessing\n",
    "\n",
    "filedata = 'philippine_file.csv'\n",
    "data = pd.read_csv(filedata)\n",
    "\n",
    "del data[\"num-connections\"]\n",
    "del data[\"positions_is_current\"]\n",
    "del data[\"educations-end_date\"]\n",
    "\n",
    "n = len(data)\n",
    "num_train = int(0.60*n)\n",
    "\n",
    "data = data.sample(frac=1).reset_index(drop=True)\n",
    "classes = data[\"industry-specialization\"]\n",
    "\n",
    "y = data[\"industry-specialization\"][:num_train]\n",
    "y_test = data[\"industry-specialization\"][num_train:]\n",
    "del data[\"industry-specialization\"]\n",
    "\n",
    "x = data.values #returns a numpy array\n",
    "min_max_scaler = preprocessing.MinMaxScaler()\n",
    "x_scaled = min_max_scaler.fit_transform(x)\n",
    "data = pd.DataFrame(x_scaled)\n",
    "\n",
    "X = data[:num_train]\n",
    "X_test = data[num_train:]\n",
    "\n",
    "model = svm.SVC(kernel='linear',C=100).fit(X,y)\n",
    "#model = svm.SVC(kernel='poly',C=200, degree=2, probability=True).fit(X,y)\n",
    "#model = svm.SVC(kernel='rbf',C=100, gamma=5, ).fit(X,y)\n",
    "\n",
    "pred = model.predict(X_test)\n",
    "print(metrics.confusion_matrix(pred, y_test))\n",
    "print(model.score(X_test,y_test))\n",
    "trial = data.head(1)\n",
    "print(model.predict(trial))\n",
    "print(\"test input(class): \", classes[1])"
   ]
  },
  {
   "cell_type": "markdown",
   "metadata": {},
   "source": [
    "#### Learning Algorithm: Artificial Neural Network"
   ]
  },
  {
   "cell_type": "code",
   "execution_count": 79,
   "metadata": {},
   "outputs": [],
   "source": [
    "import pandas as pd\n",
    "\n",
    "data = pd.read_csv('philippine_file.csv')"
   ]
  },
  {
   "cell_type": "code",
   "execution_count": 67,
   "metadata": {},
   "outputs": [
    {
     "data": {
      "text/plain": [
       "0        5\n",
       "1        6\n",
       "2        4\n",
       "3        0\n",
       "4        5\n",
       "5        5\n",
       "6        4\n",
       "7        4\n",
       "8        4\n",
       "9        1\n",
       "10      13\n",
       "11       4\n",
       "12       5\n",
       "13      10\n",
       "14       7\n",
       "15       4\n",
       "16      16\n",
       "17      16\n",
       "18       0\n",
       "19       0\n",
       "20       4\n",
       "21       4\n",
       "22       8\n",
       "23       4\n",
       "24       9\n",
       "25       4\n",
       "26       4\n",
       "27       8\n",
       "28       5\n",
       "29       5\n",
       "        ..\n",
       "1977     4\n",
       "1978     4\n",
       "1979    10\n",
       "1980     0\n",
       "1981     0\n",
       "1982     4\n",
       "1983     4\n",
       "1984     4\n",
       "1985     7\n",
       "1986    16\n",
       "1987     1\n",
       "1988     1\n",
       "1989     5\n",
       "1990     7\n",
       "1991    15\n",
       "1992    16\n",
       "1993    16\n",
       "1994     2\n",
       "1995    10\n",
       "1996     5\n",
       "1997     2\n",
       "1998    14\n",
       "1999    16\n",
       "2000     0\n",
       "2001     0\n",
       "2002     4\n",
       "2003     4\n",
       "2004     0\n",
       "2005    14\n",
       "2006     4\n",
       "Name: industry-specialization, Length: 2007, dtype: int64"
      ]
     },
     "execution_count": 67,
     "metadata": {},
     "output_type": "execute_result"
    }
   ],
   "source": [
    "del data[\"num-connections\"]\n",
    "del data[\"positions_is_current\"]\n",
    "\n",
    "x = data.drop('industry-specialization',axis=1) #axis=1 tells the translator that a column will be dropped, 0 if row\n",
    "y = data['industry-specialization']\n",
    "y"
   ]
  },
  {
   "cell_type": "code",
   "execution_count": 68,
   "metadata": {
    "collapsed": true
   },
   "outputs": [],
   "source": [
    "from sklearn.model_selection import train_test_split\n",
    "\n",
    "x_train, x_test, y_train, y_test = train_test_split(x,y)\n",
    "\n",
    "from sklearn.preprocessing import StandardScaler\n",
    "from sklearn.preprocessing import MinMaxScaler\n",
    "scaler = MinMaxScaler()#StandardScaler()\n",
    "scaler.fit(x_train)\n",
    "\n",
    "x_train = scaler.transform(x_train)\n",
    "x_test = scaler.transform(x_test)\n",
    "x_test"
   ]
  },
  {
   "cell_type": "code",
   "execution_count": 72,
   "metadata": {},
   "outputs": [
    {
     "data": {
      "text/plain": [
       "MLPClassifier(activation='tanh', alpha=0.0001, batch_size='auto', beta_1=0.9,\n",
       "       beta_2=0.999, early_stopping=False, epsilon=1e-08,\n",
       "       hidden_layer_sizes=5, learning_rate='constant',\n",
       "       learning_rate_init=0.1, max_iter=5000, momentum=0.9,\n",
       "       nesterovs_momentum=True, power_t=0.5, random_state=None,\n",
       "       shuffle=True, solver='adam', tol=0.0001, validation_fraction=0.1,\n",
       "       verbose=False, warm_start=False)"
      ]
     },
     "execution_count": 72,
     "metadata": {},
     "output_type": "execute_result"
    }
   ],
   "source": [
    "from sklearn.neural_network import MLPClassifier\n",
    "\n",
    "mlp = MLPClassifier(hidden_layer_sizes=(5),max_iter=5000,learning_rate_init=0.1,activation='tanh')\n",
    "mlp.fit(x_train,y_train)\n",
    "\n",
    "predictions = mlp.predict(x_test)\n",
    "print(predictions)"
   ]
  },
  {
   "cell_type": "code",
   "execution_count": 74,
   "metadata": {},
   "outputs": [
    {
     "name": "stdout",
     "output_type": "stream",
     "text": [
      "[[ 0  0  0  1 30  0  0  0  0  0  0  0  0  0  0  0 34]\n",
      " [ 0  0  0  0  8  0  0  0  0  0  0  0  0  0  0  0 15]\n",
      " [ 0  0  0  0  7  0  0  0  0  0  0  0  0  0  0  0  8]\n",
      " [ 0  0  0  0  4  0  0  0  0  0  0  0  0  0  0  0  8]\n",
      " [ 0  0  0  0 73  0  0  0  0  0  0  0  0  0  0  0 44]\n",
      " [ 0  0  0  0 12  0  0  0  0  0  0  0  0  0  0  0 13]\n",
      " [ 0  0  0  0  6  0  0  0  0  0  0  0  0  0  0  0  7]\n",
      " [ 0  0  0  0  8  0  0  0  0  0  0  0  0  0  0  0 13]\n",
      " [ 0  0  0  1  7  0  0  0  0  0  0  0  0  0  0  0 12]\n",
      " [ 0  0  0  0  6  0  0  0  0  0  0  0  0  0  0  0  5]\n",
      " [ 0  0  0  0 16  0  0  0  0  0  0  0  0  0  0  0  6]\n",
      " [ 0  0  0  0  5  0  0  0  0  0  0  0  0  0  0  0  1]\n",
      " [ 0  0  0  0  1  0  0  0  0  0  0  0  0  0  0  0  2]\n",
      " [ 0  0  0  0  1  0  0  0  0  0  0  0  0  0  0  0  0]\n",
      " [ 0  0  0  1  2  0  0  0  0  0  0  0  0  0  0  0 10]\n",
      " [ 0  0  0  0  1  0  0  0  0  0  0  0  0  0  0  0 17]\n",
      " [ 0  0  0  0 34  0  0  0  0  0  0  0  0  0  0  0 83]]\n"
     ]
    }
   ],
   "source": [
    "from sklearn.metrics import classification_report,confusion_matrix\n",
    "\n",
    "print (confusion_matrix(y_test,predictions))\n",
    "print(classification_report(y_test,predictions))"
   ]
  }
 ],
 "metadata": {
  "kernelspec": {
   "display_name": "Python 3",
   "language": "python",
   "name": "python3"
  },
  "language_info": {
   "codemirror_mode": {
    "name": "ipython",
    "version": 3
   },
   "file_extension": ".py",
   "mimetype": "text/x-python",
   "name": "python",
   "nbconvert_exporter": "python",
   "pygments_lexer": "ipython3",
   "version": "3.6.1"
  }
 },
 "nbformat": 4,
 "nbformat_minor": 2
}
