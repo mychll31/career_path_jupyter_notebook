{
 "cells": [
  {
   "cell_type": "markdown",
   "metadata": {},
   "source": [
    "## Prediction of possibility of working based on years after graduation, field of study, number of connections (in LinkedIn), work specialization, school"
   ]
  },
  {
   "cell_type": "code",
   "execution_count": 175,
   "metadata": {
    "collapsed": true
   },
   "outputs": [],
   "source": [
    "%matplotlib inline\n",
    "from matplotlib import pyplot as plt"
   ]
  },
  {
   "cell_type": "markdown",
   "metadata": {},
   "source": [
    "#### Learning Algorithm: Gaussian Naive Bayes"
   ]
  },
  {
   "cell_type": "code",
   "execution_count": 176,
   "metadata": {
    "scrolled": true
   },
   "outputs": [
    {
     "data": {
      "text/html": [
       "<div>\n",
       "<style>\n",
       "    .dataframe thead tr:only-child th {\n",
       "        text-align: right;\n",
       "    }\n",
       "\n",
       "    .dataframe thead th {\n",
       "        text-align: left;\n",
       "    }\n",
       "\n",
       "    .dataframe tbody tr th {\n",
       "        vertical-align: top;\n",
       "    }\n",
       "</style>\n",
       "<table border=\"1\" class=\"dataframe\">\n",
       "  <thead>\n",
       "    <tr style=\"text-align: right;\">\n",
       "      <th></th>\n",
       "      <th>educations-end_date</th>\n",
       "      <th>educations-field_of_study</th>\n",
       "      <th>num-connections</th>\n",
       "      <th>industry-specialization</th>\n",
       "      <th>educations-school-name_asnumeric</th>\n",
       "      <th>positions_is_current</th>\n",
       "    </tr>\n",
       "  </thead>\n",
       "  <tbody>\n",
       "    <tr>\n",
       "      <th>0</th>\n",
       "      <td>1</td>\n",
       "      <td>8</td>\n",
       "      <td>0</td>\n",
       "      <td>4</td>\n",
       "      <td>10</td>\n",
       "      <td>0</td>\n",
       "    </tr>\n",
       "    <tr>\n",
       "      <th>1</th>\n",
       "      <td>2</td>\n",
       "      <td>8</td>\n",
       "      <td>3</td>\n",
       "      <td>5</td>\n",
       "      <td>10</td>\n",
       "      <td>1</td>\n",
       "    </tr>\n",
       "    <tr>\n",
       "      <th>2</th>\n",
       "      <td>27</td>\n",
       "      <td>5</td>\n",
       "      <td>36</td>\n",
       "      <td>3</td>\n",
       "      <td>9</td>\n",
       "      <td>0</td>\n",
       "    </tr>\n",
       "    <tr>\n",
       "      <th>3</th>\n",
       "      <td>20</td>\n",
       "      <td>0</td>\n",
       "      <td>0</td>\n",
       "      <td>0</td>\n",
       "      <td>4</td>\n",
       "      <td>1</td>\n",
       "    </tr>\n",
       "    <tr>\n",
       "      <th>4</th>\n",
       "      <td>12</td>\n",
       "      <td>8</td>\n",
       "      <td>5</td>\n",
       "      <td>4</td>\n",
       "      <td>9</td>\n",
       "      <td>0</td>\n",
       "    </tr>\n",
       "  </tbody>\n",
       "</table>\n",
       "</div>"
      ],
      "text/plain": [
       "   educations-end_date  educations-field_of_study  num-connections  \\\n",
       "0                    1                          8                0   \n",
       "1                    2                          8                3   \n",
       "2                   27                          5               36   \n",
       "3                   20                          0                0   \n",
       "4                   12                          8                5   \n",
       "\n",
       "   industry-specialization  educations-school-name_asnumeric  \\\n",
       "0                        4                                10   \n",
       "1                        5                                10   \n",
       "2                        3                                 9   \n",
       "3                        0                                 4   \n",
       "4                        4                                 9   \n",
       "\n",
       "   positions_is_current  \n",
       "0                     0  \n",
       "1                     1  \n",
       "2                     0  \n",
       "3                     1  \n",
       "4                     0  "
      ]
     },
     "execution_count": 176,
     "metadata": {},
     "output_type": "execute_result"
    }
   ],
   "source": [
    "\n",
    "import pandas as pd\n",
    "\n",
    "data = pd.read_csv('philippine_file.csv')\n",
    "data.head()\n"
   ]
  },
  {
   "cell_type": "code",
   "execution_count": 182,
   "metadata": {},
   "outputs": [
    {
     "data": {
      "image/png": "[encoded data removed]",
      "text/plain": [
       "<matplotlib.figure.Figure at 0x11c85f400>"
      ]
     },
     "metadata": {},
     "output_type": "display_data"
    }
   ],
   "source": [
    "fig = plt.figure(figsize=(4,4))\n",
    "plt.scatter(data[\"educations-field_of_study\"], data[\"industry-specialization\"])\n",
    "plt.show()"
   ]
  },
  {
   "cell_type": "code",
   "execution_count": 184,
   "metadata": {},
   "outputs": [
    {
     "ename": "AttributeError",
     "evalue": "'RangeIndex' object has no attribute 'levels'",
     "output_type": "error",
     "traceback": [
      "\u001b[0;31m---------------------------------------------------------------------------\u001b[0m",
      "\u001b[0;31mAttributeError\u001b[0m                            Traceback (most recent call last)",
      "\u001b[0;32m<ipython-input-184-2b5c19ee2cec>\u001b[0m in \u001b[0;36m<module>\u001b[0;34m()\u001b[0m\n\u001b[1;32m      1\u001b[0m \u001b[0mfig\u001b[0m \u001b[0;34m=\u001b[0m \u001b[0mplt\u001b[0m\u001b[0;34m.\u001b[0m\u001b[0mfigure\u001b[0m\u001b[0;34m(\u001b[0m\u001b[0mfigsize\u001b[0m\u001b[0;34m=\u001b[0m\u001b[0;34m(\u001b[0m\u001b[0;36m15\u001b[0m\u001b[0;34m,\u001b[0m\u001b[0;36m8\u001b[0m\u001b[0;34m)\u001b[0m\u001b[0;34m)\u001b[0m\u001b[0;34m\u001b[0m\u001b[0m\n\u001b[0;32m----> 2\u001b[0;31m \u001b[0mplt\u001b[0m\u001b[0;34m.\u001b[0m\u001b[0mhist\u001b[0m\u001b[0;34m(\u001b[0m\u001b[0mdata\u001b[0m\u001b[0;34m[\u001b[0m\u001b[0;34m\"educations-school-name_asnumeric\"\u001b[0m\u001b[0;34m]\u001b[0m\u001b[0;34m.\u001b[0m\u001b[0mcount\u001b[0m\u001b[0;34m(\u001b[0m\u001b[0mdata\u001b[0m\u001b[0;34m[\u001b[0m\u001b[0;34m\"positions_is_current\"\u001b[0m\u001b[0;34m]\u001b[0m \u001b[0;34m==\u001b[0m \u001b[0;36m1\u001b[0m\u001b[0;34m)\u001b[0m\u001b[0;34m,\u001b[0m \u001b[0mbins\u001b[0m\u001b[0;34m=\u001b[0m\u001b[0;36m20\u001b[0m\u001b[0;34m)\u001b[0m\u001b[0;34m\u001b[0m\u001b[0m\n\u001b[0m\u001b[1;32m      3\u001b[0m \u001b[0mplt\u001b[0m\u001b[0;34m.\u001b[0m\u001b[0mshow\u001b[0m\u001b[0;34m(\u001b[0m\u001b[0;34m)\u001b[0m\u001b[0;34m\u001b[0m\u001b[0m\n",
      "\u001b[0;32m/Users/zenitharnejo/anaconda/lib/python3.6/site-packages/pandas/core/series.py\u001b[0m in \u001b[0;36mcount\u001b[0;34m(self, level)\u001b[0m\n\u001b[1;32m   1165\u001b[0m             \u001b[0mlevel\u001b[0m \u001b[0;34m=\u001b[0m \u001b[0mself\u001b[0m\u001b[0;34m.\u001b[0m\u001b[0mindex\u001b[0m\u001b[0;34m.\u001b[0m\u001b[0m_get_level_number\u001b[0m\u001b[0;34m(\u001b[0m\u001b[0mlevel\u001b[0m\u001b[0;34m)\u001b[0m\u001b[0;34m\u001b[0m\u001b[0m\n\u001b[1;32m   1166\u001b[0m \u001b[0;34m\u001b[0m\u001b[0m\n\u001b[0;32m-> 1167\u001b[0;31m         \u001b[0mlev\u001b[0m \u001b[0;34m=\u001b[0m \u001b[0mself\u001b[0m\u001b[0;34m.\u001b[0m\u001b[0mindex\u001b[0m\u001b[0;34m.\u001b[0m\u001b[0mlevels\u001b[0m\u001b[0;34m[\u001b[0m\u001b[0mlevel\u001b[0m\u001b[0;34m]\u001b[0m\u001b[0;34m\u001b[0m\u001b[0m\n\u001b[0m\u001b[1;32m   1168\u001b[0m         \u001b[0mlab\u001b[0m \u001b[0;34m=\u001b[0m \u001b[0mnp\u001b[0m\u001b[0;34m.\u001b[0m\u001b[0marray\u001b[0m\u001b[0;34m(\u001b[0m\u001b[0mself\u001b[0m\u001b[0;34m.\u001b[0m\u001b[0mindex\u001b[0m\u001b[0;34m.\u001b[0m\u001b[0mlabels\u001b[0m\u001b[0;34m[\u001b[0m\u001b[0mlevel\u001b[0m\u001b[0;34m]\u001b[0m\u001b[0;34m,\u001b[0m \u001b[0msubok\u001b[0m\u001b[0;34m=\u001b[0m\u001b[0;32mFalse\u001b[0m\u001b[0;34m,\u001b[0m \u001b[0mcopy\u001b[0m\u001b[0;34m=\u001b[0m\u001b[0;32mTrue\u001b[0m\u001b[0;34m)\u001b[0m\u001b[0;34m\u001b[0m\u001b[0m\n\u001b[1;32m   1169\u001b[0m \u001b[0;34m\u001b[0m\u001b[0m\n",
      "\u001b[0;31mAttributeError\u001b[0m: 'RangeIndex' object has no attribute 'levels'"
     ]
    },
    {
     "data": {
      "text/plain": [
       "<matplotlib.figure.Figure at 0x11c7d3780>"
      ]
     },
     "metadata": {},
     "output_type": "display_data"
    }
   ],
   "source": [
    "fig = plt.figure(figsize=(15,8))\n",
    "plt.hist(data[\"educations-school-name_asnumeric\"].count(data[\"positions_is_current\"] == 1), bins=20)\n",
    "plt.show()"
   ]
  },
  {
   "cell_type": "code",
   "execution_count": 166,
   "metadata": {
    "scrolled": true
   },
   "outputs": [
    {
     "data": {
      "text/plain": [
       "array([0, 0, 0, 0, 0, 0, 0, 0, 0, 0, 0, 0, 0, 0, 0, 0, 0, 0, 0, 0, 0, 0, 0,\n",
       "       0, 0, 0, 0, 0, 0, 0, 0, 0, 0, 0, 0, 0, 0, 0, 0, 0, 0, 0, 0, 0, 0, 0,\n",
       "       0, 0, 0, 0, 0, 0, 0, 0, 0, 0, 0, 0, 0, 0, 0, 0, 0, 0, 0, 0, 0, 0, 0,\n",
       "       0, 0, 1, 0, 1, 0, 0, 0, 0, 0, 0, 0, 0, 0, 0, 0, 0, 0, 0, 0, 0, 0, 0,\n",
       "       0, 0, 0, 1, 0, 0, 0, 0, 0, 0, 0, 0, 0, 0, 0, 0, 0, 0, 0, 0, 0, 0, 0,\n",
       "       0, 0, 0, 0, 0, 1, 0, 0, 0, 0, 0, 0, 0, 0, 0, 1, 0, 0, 0, 0, 0, 0, 0,\n",
       "       0, 1, 0, 0, 0, 0, 0, 0, 0, 0, 0, 0, 0, 0, 0, 0, 0, 0, 0, 0, 0, 0, 0,\n",
       "       0, 0, 0, 0, 1, 0, 0, 0, 0, 0, 0, 0, 0, 0, 0, 0, 0, 0, 0, 0, 0, 0, 0,\n",
       "       0, 0, 0, 0, 0, 0, 0, 0, 0, 0, 0, 0, 0, 1, 0, 0, 0, 0, 0, 0, 0, 0, 0,\n",
       "       0, 0, 0, 0, 0, 1, 0, 0, 0, 0, 0, 0, 0, 0, 0, 0, 0, 0, 0, 0, 0, 0, 0,\n",
       "       0, 0, 0, 0, 1, 0, 0, 0, 0, 0, 0, 0, 0, 0, 0, 0, 0, 0, 0, 0, 0, 0, 0,\n",
       "       0, 1, 0, 0, 1, 0, 0, 0, 0, 0, 0, 0, 0, 0, 0, 0, 0, 0, 0, 0, 0, 0, 0,\n",
       "       0, 0, 0, 0, 0, 0, 0, 0, 0, 1, 0, 0, 0, 0, 0, 0, 0, 0, 0, 0, 0, 0, 0,\n",
       "       1, 0, 0, 0, 0, 0, 0, 0, 0, 0, 0, 0, 0, 0, 0, 0, 0, 0, 0, 0, 0, 0, 0,\n",
       "       1, 0, 1, 0, 1, 0, 0, 0, 0, 0, 0, 0, 0, 0, 0, 0, 0, 0, 0, 0, 0, 0, 0,\n",
       "       0, 0, 0, 0, 0, 0, 0, 0, 0, 0, 0, 0, 0, 0, 0, 0, 0, 0, 0, 0, 0, 0, 0,\n",
       "       0, 0, 0, 0, 0, 0, 0, 0, 0, 0, 0, 0, 0, 0, 0, 0, 0, 0, 0, 0, 0, 0, 0,\n",
       "       0, 0, 0, 0, 0, 0, 0, 0, 0, 1, 0, 0, 0, 0, 0, 0, 0, 0, 0, 0, 0, 0, 0,\n",
       "       0, 0, 0, 0, 0, 0, 0, 0, 0, 0, 0, 0, 0, 0, 0, 0, 0, 0, 0, 0, 0, 0, 0,\n",
       "       0, 0, 0, 0, 0, 0, 0, 0, 0, 0, 0, 0, 0, 0, 0, 0, 0, 0, 0, 0, 0, 0, 0,\n",
       "       0, 0, 0, 0, 0, 0, 0, 0, 0, 0, 0, 0, 0, 0, 0, 0, 0, 0, 0, 0, 0, 0, 0,\n",
       "       0, 0, 0, 0, 0, 0, 0, 0, 0, 0, 0, 0, 0, 0, 0, 0, 0, 0, 0, 0, 0, 0, 0,\n",
       "       0, 0, 0, 0, 0, 0, 0, 0, 0, 0, 0, 0, 0, 0, 0, 0, 0, 0, 0, 0, 0, 0, 0,\n",
       "       0, 0, 0, 0, 0, 0, 1, 0, 0, 0, 0, 0, 0, 0, 0, 0, 0, 0, 0, 0, 0, 1, 0,\n",
       "       0, 0, 1, 0, 0, 0, 0, 0, 0, 0, 0, 0, 0, 0, 0, 0, 0, 0, 0, 0, 0, 0, 0,\n",
       "       0, 0, 0, 0, 0, 0, 0, 0, 0, 0, 0, 0, 0, 0, 0, 0, 0, 0, 1, 0, 1, 0, 0,\n",
       "       0, 0, 0, 0, 0])"
      ]
     },
     "execution_count": 166,
     "metadata": {},
     "output_type": "execute_result"
    }
   ],
   "source": [
    "from sklearn.model_selection import train_test_split\n",
    "\n",
    "X_train, X_test, y_train, y_test = train_test_split(data[['educations-field_of_study', 'num-connections', 'industry-specialization', 'educations-school-name_asnumeric', 'educations-end_date']], data[['positions_is_current']], test_size=0.3, random_state=427)\n",
    "\n",
    "y_train = y_train.values.flatten() # Just some trivial data formatting..\n",
    "y_test = y_test.values.flatten()\n",
    "\n",
    "from sklearn.naive_bayes import GaussianNB\n",
    "gnb = GaussianNB()\n",
    "\n",
    "gnb.fit(X_train, y_train)\n",
    "\n",
    "y_score = gnb.predict(X_test)\n",
    "y_score"
   ]
  },
  {
   "cell_type": "code",
   "execution_count": 167,
   "metadata": {},
   "outputs": [
    {
     "data": {
      "text/plain": [
       "array([[ 0.78566388,  0.21433612],\n",
       "       [ 0.63414584,  0.36585416],\n",
       "       [ 0.68519154,  0.31480846],\n",
       "       ..., \n",
       "       [ 0.60681779,  0.39318221],\n",
       "       [ 0.69235689,  0.30764311],\n",
       "       [ 0.84086439,  0.15913561]])"
      ]
     },
     "execution_count": 167,
     "metadata": {},
     "output_type": "execute_result"
    }
   ],
   "source": [
    "gnb.predict_proba(X_test)"
   ]
  },
  {
   "cell_type": "code",
   "execution_count": 168,
   "metadata": {},
   "outputs": [
    {
     "name": "stdout",
     "output_type": "stream",
     "text": [
      "             precision    recall  f1-score   support\n",
      "\n",
      "       True     0.8000    0.9687    0.8763       479\n",
      "      False     0.3478    0.0645    0.1088       124\n",
      "\n",
      "avg / total     0.7070    0.7828    0.7185       603\n",
      "\n",
      "[[464 116]\n",
      " [ 15   8]]\n"
     ]
    }
   ],
   "source": [
    "from sklearn import datasets, metrics\n",
    "classification = [\"True\", \"False\"]\n",
    "print(metrics.classification_report(y_test, y_score, target_names=classification, digits=4))\n",
    "pred = gnb.predict(X_test)\n",
    "print(metrics.confusion_matrix(pred, y_test))"
   ]
  },
  {
   "cell_type": "markdown",
   "metadata": {},
   "source": [
    "#### Learning Algorithm: Support Vector Machines"
   ]
  },
  {
   "cell_type": "code",
   "execution_count": 135,
   "metadata": {},
   "outputs": [
    {
     "name": "stdout",
     "output_type": "stream",
     "text": [
      "[[470 133]\n",
      " [  0   0]]\n",
      "0.77943615257\n",
      "[0]\n",
      "test input(class):  0\n",
      "test input(data): \n"
     ]
    },
    {
     "data": {
      "text/plain": [
       "2007"
      ]
     },
     "execution_count": 135,
     "metadata": {},
     "output_type": "execute_result"
    }
   ],
   "source": [
    "import numpy as np\n",
    "from sklearn import svm\n",
    "import math\n",
    "import pandas as pd\n",
    "from sklearn import datasets, metrics\n",
    "\n",
    "filedata = 'philippine_file.csv'\n",
    "data = pd.read_csv(filedata)\n",
    "data.columns.values\n",
    "\n",
    "n = len(data)\n",
    "num_train = int(0.70*n)\n",
    "\n",
    "data = data.sample(frac=1).reset_index(drop=True)\n",
    "classes = data[\"positions_is_current\"]\n",
    "\n",
    "y = data[\"positions_is_current\"][:num_train]\n",
    "y_test = data[\"positions_is_current\"][num_train:]\n",
    "del data[\"positions_is_current\"]\n",
    "X = data[:num_train]\n",
    "X_test = data[num_train:]\n",
    "\n",
    "model = svm.SVC(kernel=\"sigmoid\", gamma=0.01, coef0=1)\n",
    "#model = svm.SVC(kernel='linear',C=15).fit(X,y)\n",
    "#model = svm.SVC(kernel='poly',C=1, degree=2, probability=True).fit(X,y)\n",
    "#model = svm.SVC(kernel='rbf',C=100, gamma=4).fit(X,y)\n",
    "\n",
    "model.fit(X, y)\n",
    "pred = model.predict(X_test)\n",
    "print(metrics.confusion_matrix(pred, y_test))\n",
    "print(model.score(X_test,y_test))\n",
    "trial = data.head(1)\n",
    "print(model.predict(trial))\n",
    "print(\"test input(class): \", classes[1])\n",
    "print(\"test input(data): \")\n",
    "data.head(1)\n",
    "len(data)"
   ]
  },
  {
   "cell_type": "markdown",
   "metadata": {},
   "source": [
    "#### Learning Algorithm: Artificial Neural Network"
   ]
  },
  {
   "cell_type": "code",
   "execution_count": 127,
   "metadata": {},
   "outputs": [],
   "source": [
    "import pandas as pd\n",
    "\n",
    "data = pd.read_csv('philippine_file.csv')"
   ]
  },
  {
   "cell_type": "code",
   "execution_count": 128,
   "metadata": {},
   "outputs": [
    {
     "data": {
      "text/plain": [
       "0       0\n",
       "1       1\n",
       "2       0\n",
       "3       1\n",
       "4       0\n",
       "5       1\n",
       "6       0\n",
       "7       0\n",
       "8       0\n",
       "9       1\n",
       "10      0\n",
       "11      1\n",
       "12      0\n",
       "13      1\n",
       "14      0\n",
       "15      0\n",
       "16      1\n",
       "17      0\n",
       "18      0\n",
       "19      0\n",
       "20      0\n",
       "21      1\n",
       "22      1\n",
       "23      0\n",
       "24      0\n",
       "25      0\n",
       "26      0\n",
       "27      1\n",
       "28      0\n",
       "29      0\n",
       "       ..\n",
       "1977    0\n",
       "1978    0\n",
       "1979    1\n",
       "1980    0\n",
       "1981    1\n",
       "1982    1\n",
       "1983    0\n",
       "1984    0\n",
       "1985    1\n",
       "1986    0\n",
       "1987    1\n",
       "1988    0\n",
       "1989    1\n",
       "1990    0\n",
       "1991    0\n",
       "1992    0\n",
       "1993    0\n",
       "1994    0\n",
       "1995    1\n",
       "1996    1\n",
       "1997    0\n",
       "1998    0\n",
       "1999    1\n",
       "2000    0\n",
       "2001    0\n",
       "2002    0\n",
       "2003    0\n",
       "2004    0\n",
       "2005    1\n",
       "2006    1\n",
       "Name: positions_is_current, Length: 2007, dtype: int64"
      ]
     },
     "execution_count": 128,
     "metadata": {},
     "output_type": "execute_result"
    }
   ],
   "source": [
    "x = data.drop('positions_is_current',axis=1) #axis=1 tells the translator that a column will be dropped, 0 if row\n",
    "y = data['positions_is_current']\n",
    "y"
   ]
  },
  {
   "cell_type": "code",
   "execution_count": 129,
   "metadata": {},
   "outputs": [
    {
     "data": {
      "text/plain": [
       "array([[ 0.25      ,  0.125     ,  0.104     ,  0.875     ,  0.5       ],\n",
       "       [ 0.69230769,  1.        ,  0.012     ,  0.375     ,  1.        ],\n",
       "       [ 0.23076923,  1.        ,  0.464     ,  0.        ,  1.        ],\n",
       "       ..., \n",
       "       [ 0.59615385,  1.        ,  0.64      ,  0.375     ,  1.        ],\n",
       "       [ 0.25      ,  1.        ,  0.128     ,  0.        ,  0.9       ],\n",
       "       [ 0.26923077,  0.125     ,  0.01      ,  0.875     ,  1.        ]])"
      ]
     },
     "execution_count": 129,
     "metadata": {},
     "output_type": "execute_result"
    }
   ],
   "source": [
    "from sklearn.model_selection import train_test_split\n",
    "\n",
    "x_train, x_test, y_train, y_test = train_test_split(x,y)\n",
    "\n",
    "from sklearn.preprocessing import StandardScaler\n",
    "from sklearn.preprocessing import MinMaxScaler\n",
    "scaler = MinMaxScaler()#StandardScaler()\n",
    "scaler.fit(x_train)\n",
    "\n",
    "x_train = scaler.transform(x_train)\n",
    "x_test = scaler.transform(x_test)\n",
    "x_test"
   ]
  },
  {
   "cell_type": "code",
   "execution_count": 130,
   "metadata": {},
   "outputs": [
    {
     "name": "stdout",
     "output_type": "stream",
     "text": [
      "[0 0 0 0 0 0 0 0 0 0 0 0 0 0 0 0 0 0 0 0 0 0 0 0 0 0 0 0 0 0 0 0 0 0 0 0 0\n",
      " 0 0 0 0 0 0 0 0 0 0 0 0 0 0 0 0 0 0 0 0 0 0 0 0 0 0 0 0 0 0 0 0 0 0 0 0 0\n",
      " 0 0 0 0 0 0 0 0 0 0 0 0 0 0 0 0 0 0 0 0 0 0 0 0 0 0 0 0 0 0 0 0 0 0 0 0 0\n",
      " 0 0 0 0 0 0 0 0 0 0 0 0 0 0 0 0 0 0 0 0 0 0 0 0 0 0 0 0 0 0 0 0 0 0 0 0 0\n",
      " 0 0 0 0 0 0 0 0 0 0 0 0 0 0 0 0 0 0 0 0 0 0 0 0 0 0 0 0 0 0 0 0 0 0 0 0 0\n",
      " 0 0 0 0 0 0 0 0 0 0 0 0 0 0 0 0 0 0 0 0 0 0 0 0 0 0 0 0 0 0 0 0 0 0 0 0 0\n",
      " 0 0 0 0 0 0 0 0 0 0 0 0 0 0 0 0 0 0 0 0 0 0 0 0 0 0 0 0 0 0 0 0 0 0 0 0 0\n",
      " 0 0 0 0 0 0 0 0 0 0 0 0 0 0 0 0 0 0 0 0 0 0 0 0 0 0 0 0 0 0 0 0 0 0 0 0 0\n",
      " 0 0 0 0 0 0 0 0 0 0 0 0 0 0 0 0 0 0 0 0 0 0 0 0 0 0 0 0 0 0 0 0 0 0 0 0 0\n",
      " 0 0 0 0 0 0 0 0 0 0 0 0 0 0 0 0 0 0 0 0 0 0 0 0 0 0 0 0 0 0 0 0 0 0 0 0 0\n",
      " 0 0 0 0 0 0 0 0 0 0 0 0 0 0 0 0 0 0 0 0 0 0 0 0 0 0 0 0 0 0 0 0 0 0 0 0 0\n",
      " 0 0 0 0 0 0 0 0 0 0 0 0 0 0 0 0 0 0 0 0 0 0 0 0 0 0 0 0 0 0 0 0 0 0 0 0 0\n",
      " 0 0 0 0 0 0 0 0 0 0 0 0 0 0 0 0 0 0 0 0 0 0 0 0 0 0 0 0 0 0 0 0 0 0 0 0 0\n",
      " 0 0 0 0 0 0 0 0 0 0 0 0 0 0 0 0 0 0 0 0 0]\n"
     ]
    }
   ],
   "source": [
    "from sklearn.neural_network import MLPClassifier\n",
    "\n",
    "mlp = MLPClassifier(hidden_layer_sizes=(5),max_iter=5000,learning_rate_init=0.01,activation='tanh')\n",
    "mlp.fit(x_train,y_train)\n",
    "\n",
    "predictions = mlp.predict(x_test)\n",
    "print(predictions)"
   ]
  },
  {
   "cell_type": "code",
   "execution_count": 131,
   "metadata": {},
   "outputs": [
    {
     "name": "stdout",
     "output_type": "stream",
     "text": [
      "[[392   0]\n",
      " [110   0]]\n",
      "             precision    recall  f1-score   support\n",
      "\n",
      "          0       0.78      1.00      0.88       392\n",
      "          1       0.00      0.00      0.00       110\n",
      "\n",
      "avg / total       0.61      0.78      0.68       502\n",
      "\n"
     ]
    },
    {
     "name": "stderr",
     "output_type": "stream",
     "text": [
      "/Users/zenitharnejo/anaconda/lib/python3.6/site-packages/sklearn/metrics/classification.py:1113: UndefinedMetricWarning: Precision and F-score are ill-defined and being set to 0.0 in labels with no predicted samples.\n",
      "  'precision', 'predicted', average, warn_for)\n"
     ]
    }
   ],
   "source": [
    "from sklearn.metrics import classification_report,confusion_matrix\n",
    "\n",
    "print (confusion_matrix(y_test,predictions))\n",
    "print(classification_report(y_test,predictions))"
   ]
  },
  {
   "cell_type": "markdown",
   "metadata": {},
   "source": [
    "## Prediction of work specialization based on field of study, school, year after graduation, educations-end_date"
   ]
  },
  {
   "cell_type": "markdown",
   "metadata": {},
   "source": [
    "#### Learning Algorithm: Multinomial Naive Bayes"
   ]
  },
  {
   "cell_type": "code",
   "execution_count": 80,
   "metadata": {},
   "outputs": [
    {
     "data": {
      "text/html": [
       "<div>\n",
       "<style>\n",
       "    .dataframe thead tr:only-child th {\n",
       "        text-align: right;\n",
       "    }\n",
       "\n",
       "    .dataframe thead th {\n",
       "        text-align: left;\n",
       "    }\n",
       "\n",
       "    .dataframe tbody tr th {\n",
       "        vertical-align: top;\n",
       "    }\n",
       "</style>\n",
       "<table border=\"1\" class=\"dataframe\">\n",
       "  <thead>\n",
       "    <tr style=\"text-align: right;\">\n",
       "      <th></th>\n",
       "      <th>educations-end_date</th>\n",
       "      <th>educations-field_of_study</th>\n",
       "      <th>num-connections</th>\n",
       "      <th>industry-specialization</th>\n",
       "      <th>educations-school-name_asnumeric</th>\n",
       "      <th>positions_is_current</th>\n",
       "    </tr>\n",
       "  </thead>\n",
       "  <tbody>\n",
       "    <tr>\n",
       "      <th>0</th>\n",
       "      <td>1</td>\n",
       "      <td>8</td>\n",
       "      <td>0</td>\n",
       "      <td>4</td>\n",
       "      <td>10</td>\n",
       "      <td>0</td>\n",
       "    </tr>\n",
       "    <tr>\n",
       "      <th>1</th>\n",
       "      <td>2</td>\n",
       "      <td>8</td>\n",
       "      <td>3</td>\n",
       "      <td>5</td>\n",
       "      <td>10</td>\n",
       "      <td>1</td>\n",
       "    </tr>\n",
       "    <tr>\n",
       "      <th>2</th>\n",
       "      <td>27</td>\n",
       "      <td>5</td>\n",
       "      <td>36</td>\n",
       "      <td>3</td>\n",
       "      <td>9</td>\n",
       "      <td>0</td>\n",
       "    </tr>\n",
       "    <tr>\n",
       "      <th>3</th>\n",
       "      <td>20</td>\n",
       "      <td>0</td>\n",
       "      <td>0</td>\n",
       "      <td>0</td>\n",
       "      <td>4</td>\n",
       "      <td>1</td>\n",
       "    </tr>\n",
       "    <tr>\n",
       "      <th>4</th>\n",
       "      <td>12</td>\n",
       "      <td>8</td>\n",
       "      <td>5</td>\n",
       "      <td>4</td>\n",
       "      <td>9</td>\n",
       "      <td>0</td>\n",
       "    </tr>\n",
       "  </tbody>\n",
       "</table>\n",
       "</div>"
      ],
      "text/plain": [
       "   educations-end_date  educations-field_of_study  num-connections  \\\n",
       "0                    1                          8                0   \n",
       "1                    2                          8                3   \n",
       "2                   27                          5               36   \n",
       "3                   20                          0                0   \n",
       "4                   12                          8                5   \n",
       "\n",
       "   industry-specialization  educations-school-name_asnumeric  \\\n",
       "0                        4                                10   \n",
       "1                        5                                10   \n",
       "2                        3                                 9   \n",
       "3                        0                                 4   \n",
       "4                        4                                 9   \n",
       "\n",
       "   positions_is_current  \n",
       "0                     0  \n",
       "1                     1  \n",
       "2                     0  \n",
       "3                     1  \n",
       "4                     0  "
      ]
     },
     "execution_count": 80,
     "metadata": {},
     "output_type": "execute_result"
    }
   ],
   "source": [
    "import pandas as pd\n",
    "\n",
    "data = pd.read_csv('philippine_file.csv')\n",
    "data.head()"
   ]
  },
  {
   "cell_type": "code",
   "execution_count": 81,
   "metadata": {},
   "outputs": [
    {
     "name": "stdout",
     "output_type": "stream",
     "text": [
      "X_train  (4212,)\n",
      "y_train  (1404,)\n"
     ]
    }
   ],
   "source": [
    "from sklearn.model_selection import train_test_split\n",
    "X_train, X_test, y_train, y_test = train_test_split(data[['educations-field_of_study', 'educations-school-name_asnumeric', 'educations-end_date']], data[['industry-specialization']], test_size=0.3, random_state=427)\n",
    "\n",
    "y_train = y_train.values.flatten() # Just some trivial data formatting..\n",
    "y_test = y_test.values.flatten()\n",
    "X_train = X_train.values.flatten() # Just some trivial data formatting..\n",
    "X_test = X_test.values.flatten()\n",
    "\n",
    "print(\"X_train \", X_train.shape)\n",
    "print(\"y_train \", y_train.shape)\n",
    "\n"
   ]
  },
  {
   "cell_type": "code",
   "execution_count": 82,
   "metadata": {},
   "outputs": [],
   "source": [
    "# Importing packages necessary for building the model\n",
    "from sklearn.feature_extraction.text import CountVectorizer #converts the content to vector\n",
    "from sklearn.naive_bayes import MultinomialNB \n",
    "from sklearn.pipeline import Pipeline #vectorize then multinomialNB; as in a pipelined steps\n",
    "\n",
    "text_clf = Pipeline([('vect_tfid', CountVectorizer()),\n",
    "                     ('clf', MultinomialNB())]) #alpha automatically signals laplace correction, include alpha as parameter\n",
    "\n",
    "##text_clf = text_clf.fit(X_train, y_train) #fit the model to the training set\n"
   ]
  },
  {
   "cell_type": "code",
   "execution_count": 83,
   "metadata": {},
   "outputs": [],
   "source": [
    "#text_clf is the generated model\n",
    "# y_predicted = text_clf.predict(X_test) #get predicted classes\n",
    "# y_predicted"
   ]
  },
  {
   "cell_type": "markdown",
   "metadata": {},
   "source": [
    "#### Learning Algorithm: Support Vector Machines (SVM)"
   ]
  },
  {
   "cell_type": "code",
   "execution_count": 156,
   "metadata": {},
   "outputs": [
    {
     "name": "stdout",
     "output_type": "stream",
     "text": [
      "[[  0   0   0   0   0   0   0   0   0]\n",
      " [  0   0   0   0   0   0   0   0   0]\n",
      " [  0   0   0   0   0   0   0   0   0]\n",
      " [  0   0   0   0   0   0   0   0   0]\n",
      " [  0   0   0   0   0   0   0   0   0]\n",
      " [  0   0   0   0   0   0   0   0   0]\n",
      " [  0   0   0   0   0   0   0   0   0]\n",
      " [  0   0   0   0   0   0   0   0   0]\n",
      " [ 98  34  41 164  26  31  59  95 255]]\n",
      "0.317559153176\n",
      "[8]\n",
      "test input(class):  8\n"
     ]
    },
    {
     "name": "stderr",
     "output_type": "stream",
     "text": [
      "/Users/zenitharnejo/anaconda/lib/python3.6/site-packages/sklearn/utils/validation.py:429: DataConversionWarning: Data with input dtype int64 was converted to float64 by MinMaxScaler.\n",
      "  warnings.warn(msg, _DataConversionWarning)\n"
     ]
    }
   ],
   "source": [
    "import pandas as pd\n",
    "from sklearn import preprocessing\n",
    "\n",
    "filedata = 'philippine_file.csv'\n",
    "data = pd.read_csv(filedata)\n",
    "\n",
    "del data[\"num-connections\"]\n",
    "del data[\"positions_is_current\"]\n",
    "del data[\"educations-end_date\"]\n",
    "\n",
    "n = len(data)\n",
    "num_train = int(0.6*n)\n",
    "\n",
    "data = data.sample(frac=1).reset_index(drop=True)\n",
    "classes = data[\"industry-specialization\"]\n",
    "\n",
    "y = data[\"industry-specialization\"][:num_train]\n",
    "y_test = data[\"industry-specialization\"][num_train:]\n",
    "del data[\"industry-specialization\"]\n",
    "\n",
    "x = data.values #returns a numpy array\n",
    "min_max_scaler = preprocessing.MinMaxScaler()\n",
    "x_scaled = min_max_scaler.fit_transform(x)\n",
    "data = pd.DataFrame(x_scaled)\n",
    "\n",
    "X = data[:num_train]\n",
    "X_test = data[num_train:]\n",
    "\n",
    "model = svm.SVC(kernel=\"sigmoid\", gamma=0.3, coef0=3).fit(X,y)\n",
    "#model = svm.SVC(kernel='linear',C=100).fit(X,y)\n",
    "#model = svm.SVC(kernel='poly',C=200, degree=2, probability=True).fit(X,y)\n",
    "#model = svm.SVC(kernel='rbf',C=100, gamma=5, ).fit(X,y)\n",
    "\n",
    "pred = model.predict(X_test)\n",
    "print(metrics.confusion_matrix(pred, y_test))\n",
    "print(model.score(X_test,y_test))\n",
    "trial = data.head(1)\n",
    "print(model.predict(trial))\n",
    "print(\"test input(class): \", classes[1])"
   ]
  },
  {
   "cell_type": "markdown",
   "metadata": {},
   "source": [
    "#### Learning Algorithm: Artificial Neural Network"
   ]
  },
  {
   "cell_type": "code",
   "execution_count": 100,
   "metadata": {},
   "outputs": [],
   "source": [
    "import pandas as pd\n",
    "\n",
    "data = pd.read_csv('philippine_file.csv')\n",
    "\n",
    "#del data[\"num-connections\"]\n",
    "del data[\"positions_is_current\"]\n",
    "\n",
    "x = data.drop('industry-specialization',axis=1) #axis=1 tells the translator that a column will be dropped, 0 if row\n",
    "y = data['industry-specialization']"
   ]
  },
  {
   "cell_type": "code",
   "execution_count": 101,
   "metadata": {},
   "outputs": [
    {
     "data": {
      "text/plain": [
       "array([[ 0.52727273,  1.        ,  0.        ,  1.        ],\n",
       "       [ 0.30909091,  1.        ,  0.004     ,  1.        ],\n",
       "       [ 0.43636364,  0.375     ,  0.028     ,  1.        ],\n",
       "       ..., \n",
       "       [ 0.83636364,  0.        ,  0.002     ,  1.        ],\n",
       "       [ 0.18181818,  1.        ,  0.112     ,  1.        ],\n",
       "       [ 0.29090909,  0.375     ,  0.144     ,  1.        ]])"
      ]
     },
     "execution_count": 101,
     "metadata": {},
     "output_type": "execute_result"
    }
   ],
   "source": [
    "from sklearn.model_selection import train_test_split\n",
    "\n",
    "x_train, x_test, y_train, y_test = train_test_split(x,y)\n",
    "\n",
    "from sklearn.preprocessing import StandardScaler\n",
    "from sklearn.preprocessing import MinMaxScaler\n",
    "scaler = MinMaxScaler()#StandardScaler()\n",
    "scaler.fit(x_train)\n",
    "\n",
    "x_train = scaler.transform(x_train)\n",
    "x_test = scaler.transform(x_test)\n",
    "x_test"
   ]
  },
  {
   "cell_type": "code",
   "execution_count": 102,
   "metadata": {},
   "outputs": [
    {
     "name": "stdout",
     "output_type": "stream",
     "text": [
      "[8 8 8 8 8 3 8 8 8 8 8 8 8 8 8 8 8 1 8 8 3 8 8 8 8 0 0 8 8 8 8 8 8 8 8 8 3\n",
      " 8 8 8 0 8 3 8 8 8 8 8 8 8 8 8 8 8 8 8 3 8 8 3 0 8 8 0 8 8 8 8 8 8 8 3 8 3\n",
      " 3 8 8 8 8 8 8 8 8 3 8 8 8 8 3 8 3 3 8 8 8 8 3 8 8 8 8 8 3 0 8 8 3 3 8 8 8\n",
      " 3 8 8 8 3 0 8 8 8 0 8 3 8 0 8 8 8 8 8 8 8 8 8 3 8 8 8 8 8 8 8 8 8 3 8 3 8\n",
      " 0 8 8 8 3 8 8 8 3 8 8 3 3 8 8 8 8 8 8 8 8 3 3 8 8 8 0 8 3 8 3 8 8 8 3 3 3\n",
      " 8 8 8 0 3 3 8 8 8 3 8 0 8 8 8 8 3 8 8 3 8 3 8 8 8 8 8 8 8 8 8 3 8 8 8 8 8\n",
      " 8 8 3 3 3 3 8 8 3 8 8 0 8 8 3 8 8 8 3 3 8 8 0 3 8 3 8 8 8 8 8 8 8 8 3 8 8\n",
      " 8 8 0 8 8 3 8 8 8 8 8 8 8 8 1 8 8 0 8 8 8 3 8 8 8 8 3 8 8 3 8 8 8 8 8 8 3\n",
      " 3 8 8 8 8 8 3 8 8 3 8 8 3 8 8 8 8 0 8 3 8 8 0 8 3 8 8 3 3 8 8 8 8 8 0 3 8\n",
      " 8 8 8 3 3 8 8 8 8 8 8 8 8 8 8 8 8 3 8 8 8 8 3 8 8 8 3 3 8 8 8 8 8 8 8 8 8\n",
      " 8 8 3 8 3 0 8 8 8 8 8 3 8 3 8 8 8 8 8 8 8 8 8 3 8 8 8 8 8 3 8 8 3 3 8 8 8\n",
      " 8 8 8 8 8 8 8 8 3 0 8 8 8 8 8 3 8 8 8 3 3 8 8 3 8 8 8 8 8 8 8 8 8 8 0 8 8\n",
      " 8 3 8 3 8 8 8 8 3 8 8 8 3 8 0 8 8 8 8 8 8 3 8 8 3 3 3 8 8 8 8 8 8 8 0 8 8\n",
      " 8 8 8 3 8 0 8 8 3 8 8 8 8 8 3 8 8 8 0 8 3]\n"
     ]
    }
   ],
   "source": [
    "from sklearn.neural_network import MLPClassifier\n",
    "\n",
    "mlp = MLPClassifier(hidden_layer_sizes=(10, 5),max_iter=5000,learning_rate_init=0.01,activation='logistic')\n",
    "mlp.fit(x_train,y_train)\n",
    "\n",
    "predictions = mlp.predict(x_test)\n",
    "print(predictions)"
   ]
  },
  {
   "cell_type": "code",
   "execution_count": 103,
   "metadata": {},
   "outputs": [
    {
     "name": "stdout",
     "output_type": "stream",
     "text": [
      "[[ 14   0   0   2   0   0   0   0  36]\n",
      " [  1   2   0   2   0   0   0   0  23]\n",
      " [  1   0   0   3   0   0   0   0  17]\n",
      " [  2   0   0  57   0   0   0   0  58]\n",
      " [  1   0   0   7   0   0   0   0  18]\n",
      " [  0   0   0   2   0   0   0   0  16]\n",
      " [  0   0   0   1   0   0   0   0  22]\n",
      " [  3   0   0   6   0   0   0   0  51]\n",
      " [  5   0   0  17   0   0   0   0 135]]\n",
      "             precision    recall  f1-score   support\n",
      "\n",
      "          0       0.52      0.27      0.35        52\n",
      "          1       1.00      0.07      0.13        28\n",
      "          2       0.00      0.00      0.00        21\n",
      "          3       0.59      0.49      0.53       117\n",
      "          4       0.00      0.00      0.00        26\n",
      "          5       0.00      0.00      0.00        18\n",
      "          6       0.00      0.00      0.00        23\n",
      "          7       0.00      0.00      0.00        60\n",
      "          8       0.36      0.86      0.51       157\n",
      "\n",
      "avg / total       0.36      0.41      0.33       502\n",
      "\n"
     ]
    },
    {
     "name": "stderr",
     "output_type": "stream",
     "text": [
      "/Users/zenitharnejo/anaconda/lib/python3.6/site-packages/sklearn/metrics/classification.py:1113: UndefinedMetricWarning: Precision and F-score are ill-defined and being set to 0.0 in labels with no predicted samples.\n",
      "  'precision', 'predicted', average, warn_for)\n"
     ]
    }
   ],
   "source": [
    "from sklearn.metrics import classification_report,confusion_matrix\n",
    "\n",
    "print (confusion_matrix(y_test,predictions))\n",
    "print(classification_report(y_test,predictions))"
   ]
  }
 ],
 "metadata": {
  "kernelspec": {
   "display_name": "Python 3",
   "language": "python",
   "name": "python3"
  },
  "language_info": {
   "codemirror_mode": {
    "name": "ipython",
    "version": 3
   },
   "file_extension": ".py",
   "mimetype": "text/x-python",
   "name": "python",
   "nbconvert_exporter": "python",
   "pygments_lexer": "ipython3",
   "version": "3.6.1"
  }
 },
 "nbformat": 4,
 "nbformat_minor": 2
}
