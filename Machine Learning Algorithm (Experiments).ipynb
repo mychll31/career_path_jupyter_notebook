{
 "cells": [
  {
   "cell_type": "markdown",
   "metadata": {},
   "source": [
    "## Prediction of possibility of working based on years after graduation, field of study, number of connections (in LinkedIn), work specialization, school"
   ]
  },
  {
   "cell_type": "markdown",
   "metadata": {},
   "source": [
    "#### Learning Algorithm: Gaussian Naive Bayes"
   ]
  },
  {
   "cell_type": "code",
   "execution_count": 1,
   "metadata": {
    "scrolled": true
   },
   "outputs": [
    {
     "data": {
      "text/html": [
       "<div>\n",
       "<style>\n",
       "    .dataframe thead tr:only-child th {\n",
       "        text-align: right;\n",
       "    }\n",
       "\n",
       "    .dataframe thead th {\n",
       "        text-align: left;\n",
       "    }\n",
       "\n",
       "    .dataframe tbody tr th {\n",
       "        vertical-align: top;\n",
       "    }\n",
       "</style>\n",
       "<table border=\"1\" class=\"dataframe\">\n",
       "  <thead>\n",
       "    <tr style=\"text-align: right;\">\n",
       "      <th></th>\n",
       "      <th>educations-end_date</th>\n",
       "      <th>educations-field_of_study</th>\n",
       "      <th>num-connections</th>\n",
       "      <th>industry-specialization</th>\n",
       "      <th>educations-school-name_asnumeric</th>\n",
       "      <th>positions_is_current</th>\n",
       "    </tr>\n",
       "  </thead>\n",
       "  <tbody>\n",
       "    <tr>\n",
       "      <th>0</th>\n",
       "      <td>1</td>\n",
       "      <td>8</td>\n",
       "      <td>0</td>\n",
       "      <td>4</td>\n",
       "      <td>10</td>\n",
       "      <td>0</td>\n",
       "    </tr>\n",
       "    <tr>\n",
       "      <th>1</th>\n",
       "      <td>2</td>\n",
       "      <td>8</td>\n",
       "      <td>3</td>\n",
       "      <td>5</td>\n",
       "      <td>10</td>\n",
       "      <td>1</td>\n",
       "    </tr>\n",
       "    <tr>\n",
       "      <th>2</th>\n",
       "      <td>27</td>\n",
       "      <td>5</td>\n",
       "      <td>36</td>\n",
       "      <td>3</td>\n",
       "      <td>9</td>\n",
       "      <td>0</td>\n",
       "    </tr>\n",
       "    <tr>\n",
       "      <th>3</th>\n",
       "      <td>20</td>\n",
       "      <td>0</td>\n",
       "      <td>0</td>\n",
       "      <td>0</td>\n",
       "      <td>4</td>\n",
       "      <td>1</td>\n",
       "    </tr>\n",
       "    <tr>\n",
       "      <th>4</th>\n",
       "      <td>12</td>\n",
       "      <td>8</td>\n",
       "      <td>5</td>\n",
       "      <td>4</td>\n",
       "      <td>9</td>\n",
       "      <td>0</td>\n",
       "    </tr>\n",
       "  </tbody>\n",
       "</table>\n",
       "</div>"
      ],
      "text/plain": [
       "   educations-end_date  educations-field_of_study  num-connections  \\\n",
       "0                    1                          8                0   \n",
       "1                    2                          8                3   \n",
       "2                   27                          5               36   \n",
       "3                   20                          0                0   \n",
       "4                   12                          8                5   \n",
       "\n",
       "   industry-specialization  educations-school-name_asnumeric  \\\n",
       "0                        4                                10   \n",
       "1                        5                                10   \n",
       "2                        3                                 9   \n",
       "3                        0                                 4   \n",
       "4                        4                                 9   \n",
       "\n",
       "   positions_is_current  \n",
       "0                     0  \n",
       "1                     1  \n",
       "2                     0  \n",
       "3                     1  \n",
       "4                     0  "
      ]
     },
     "execution_count": 1,
     "metadata": {},
     "output_type": "execute_result"
    }
   ],
   "source": [
    "import pandas as pd\n",
    "\n",
    "data = pd.read_csv('philippine_file.csv')\n",
    "data.head()\n"
   ]
  },
  {
   "cell_type": "code",
   "execution_count": 2,
   "metadata": {
    "scrolled": true
   },
   "outputs": [
    {
     "data": {
      "text/plain": [
       "array([0, 0, 0, 0, 0, 0, 0, 0, 0, 0, 0, 0, 0, 0, 0, 0, 0, 0, 0, 0, 0, 0, 0,\n",
       "       0, 0, 0, 0, 0, 0, 0, 0, 0, 0, 0, 0, 0, 0, 0, 0, 0, 0, 0, 0, 0, 0, 0,\n",
       "       0, 0, 0, 0, 0, 0, 0, 0, 0, 0, 0, 0, 0, 0, 0, 0, 0, 0, 0, 0, 0, 0, 0,\n",
       "       0, 0, 0, 0, 0, 0, 0, 0, 0, 0, 0, 0, 0, 0, 0, 0, 0, 0, 0, 0, 0, 0, 0,\n",
       "       0, 0, 0, 0, 0, 0, 0, 0, 0, 0, 0, 0, 0, 0, 0, 0, 0, 0, 0, 0, 0, 0, 0,\n",
       "       0, 0, 0, 0, 0, 0, 0, 0, 0, 0, 0, 0, 0, 0, 0, 0, 0, 0, 0, 0, 0, 0, 0,\n",
       "       0, 0, 0, 0, 0, 0, 0, 0, 0, 0, 0, 0, 0, 0, 0, 0, 0, 0, 0, 0, 0, 0, 0,\n",
       "       0, 0, 0, 0, 0, 0, 0, 0, 0, 0, 0, 0, 0, 0, 0, 0, 0, 0, 0, 0, 0, 0, 0,\n",
       "       0, 0, 0, 0, 0, 0, 0, 0, 0, 0, 0, 0, 0, 0, 0, 0, 0, 0, 0, 0, 0, 0, 0,\n",
       "       0, 0, 0, 0, 0, 0, 0, 0, 0, 0, 0, 0, 0, 0, 0, 0, 0, 0, 0, 0, 0, 0, 0,\n",
       "       0, 0, 0, 0, 0, 0, 0, 0, 0, 0, 0, 0, 0, 0, 0, 0, 0, 0, 0, 0, 0, 0, 0,\n",
       "       0, 0, 0, 0, 0, 0, 0, 0, 0, 0, 0, 0, 0, 0, 0, 0, 0, 0, 0, 0, 0, 0, 0,\n",
       "       0, 0, 0, 0, 0, 0, 0, 0, 0, 0, 0, 0, 0, 0, 0, 0, 0, 0, 0, 0, 0, 0, 0,\n",
       "       0, 0, 0, 0, 0, 0, 0, 0, 0, 0, 0, 0, 0, 0, 0, 0, 0, 0, 0, 0, 0, 0, 0,\n",
       "       0, 0, 0, 0, 0, 0, 0, 0, 0, 0, 0, 0, 0, 0, 0, 0, 0, 0, 0, 0, 0, 0, 0,\n",
       "       0, 0, 0, 0, 0, 0, 0, 0, 0, 0, 0, 0, 0, 0, 0, 0, 0, 0, 0, 0, 0, 0, 0,\n",
       "       0, 0, 0, 0, 0, 0, 0, 0, 0, 0, 0, 0, 0, 0, 0, 0, 0, 0, 0, 0, 0, 0, 0,\n",
       "       0, 0, 0, 0, 0, 0, 0, 0, 0, 0, 0, 0, 0, 0, 0, 0, 0, 0, 0, 0, 0, 0, 0,\n",
       "       0, 0, 0, 0, 0, 0, 0, 0, 0, 0, 0, 0, 0, 0, 0, 0, 0, 0, 0, 0, 0, 0, 0,\n",
       "       0, 0, 0, 0, 0, 0, 0, 0, 0, 0, 0, 0, 0, 0, 0, 0, 0, 0, 0, 0, 0, 0, 0,\n",
       "       0, 0, 0, 0, 0, 0, 0, 0, 0, 0, 0, 0, 0, 0, 0, 0, 0, 0, 0, 0, 0, 0, 0,\n",
       "       0, 0, 0, 0, 0, 0, 0, 0, 0, 0, 0, 0, 0, 0, 0, 0, 0, 0, 0, 0, 0, 0, 0,\n",
       "       0, 0, 0, 0, 0, 0, 0, 0, 0, 0, 0, 0, 0, 0, 0, 0, 0, 0, 0, 0, 0, 0, 0,\n",
       "       0, 0, 0, 0, 0, 0, 0, 0, 0, 0, 0, 0, 0, 0, 0, 0, 0, 0, 0, 0, 0, 0, 0,\n",
       "       0, 0, 0, 0, 0, 0, 0, 0, 0, 0, 0, 0, 0, 0, 0, 0, 0, 0, 0, 0, 0, 0, 0,\n",
       "       0, 0, 0, 0, 0, 0, 0, 0, 0, 0, 0, 0, 0, 0, 0, 0, 0, 0, 0, 0, 0, 0, 0,\n",
       "       0, 0, 0, 0, 0])"
      ]
     },
     "execution_count": 2,
     "metadata": {},
     "output_type": "execute_result"
    }
   ],
   "source": [
    "from sklearn.model_selection import train_test_split\n",
    "\n",
    "X_train, X_test, y_train, y_test = train_test_split(data[['educations-field_of_study', 'num-connections', 'industry-specialization', 'educations-school-name_asnumeric']], data[['positions_is_current']], test_size=0.3, random_state=427)\n",
    "\n",
    "y_train = y_train.values.flatten() # Just some trivial data formatting..\n",
    "y_test = y_test.values.flatten()\n",
    "\n",
    "from sklearn.naive_bayes import GaussianNB\n",
    "gnb = GaussianNB()\n",
    "\n",
    "gnb.fit(X_train, y_train)\n",
    "\n",
    "y_score = gnb.predict(X_test)\n",
    "y_score"
   ]
  },
  {
   "cell_type": "code",
   "execution_count": 3,
   "metadata": {},
   "outputs": [
    {
     "data": {
      "text/plain": [
       "array([[ 0.77141232,  0.22858768],\n",
       "       [ 0.61640105,  0.38359895],\n",
       "       [ 0.66112353,  0.33887647],\n",
       "       ..., \n",
       "       [ 0.6085215 ,  0.3914785 ],\n",
       "       [ 0.66887363,  0.33112637],\n",
       "       [ 0.828162  ,  0.171838  ]])"
      ]
     },
     "execution_count": 3,
     "metadata": {},
     "output_type": "execute_result"
    }
   ],
   "source": [
    "gnb.predict_proba(X_test)"
   ]
  },
  {
   "cell_type": "code",
   "execution_count": 4,
   "metadata": {},
   "outputs": [
    {
     "name": "stdout",
     "output_type": "stream",
     "text": [
      "             precision    recall  f1-score   support\n",
      "\n",
      "       True     0.7944    1.0000    0.8854       479\n",
      "      False     0.0000    0.0000    0.0000       124\n",
      "\n",
      "avg / total     0.6310    0.7944    0.7033       603\n",
      "\n"
     ]
    },
    {
     "name": "stderr",
     "output_type": "stream",
     "text": [
      "/Users/zenitharnejo/anaconda/lib/python3.6/site-packages/sklearn/metrics/classification.py:1113: UndefinedMetricWarning: Precision and F-score are ill-defined and being set to 0.0 in labels with no predicted samples.\n",
      "  'precision', 'predicted', average, warn_for)\n"
     ]
    }
   ],
   "source": [
    "from sklearn import datasets, metrics\n",
    "classification = [\"True\", \"False\"]\n",
    "print(metrics.classification_report(y_test, y_score, target_names=classification, digits=4))\n",
    "pred = gnb.predict(X_test)\n",
    "print(metrics.confusion_matrix(pred, y_test))"
   ]
  },
  {
   "cell_type": "markdown",
   "metadata": {},
   "source": [
    "#### Learning Algorithm: Support Vector Machines"
   ]
  },
  {
   "cell_type": "code",
   "execution_count": 6,
   "metadata": {},
   "outputs": [
    {
     "name": "stdout",
     "output_type": "stream",
     "text": [
      "[[470 133]\n",
      " [  0   0]]\n",
      "0.77943615257\n",
      "[0]\n",
      "test input(class):  0\n",
      "test input(data): \n"
     ]
    },
    {
     "data": {
      "text/plain": [
       "2007"
      ]
     },
     "execution_count": 6,
     "metadata": {},
     "output_type": "execute_result"
    }
   ],
   "source": [
    "import numpy as np\n",
    "from sklearn import svm\n",
    "import math\n",
    "import pandas as pd\n",
    "from sklearn import datasets, metrics\n",
    "\n",
    "filedata = 'philippine_file.csv'\n",
    "data = pd.read_csv(filedata)\n",
    "data.columns.values\n",
    "\n",
    "n = len(data)\n",
    "num_train = int(0.70*n)\n",
    "\n",
    "data = data.sample(frac=1).reset_index(drop=True)\n",
    "classes = data[\"positions_is_current\"]\n",
    "\n",
    "y = data[\"positions_is_current\"][:num_train]\n",
    "y_test = data[\"positions_is_current\"][num_train:]\n",
    "del data[\"positions_is_current\"]\n",
    "X = data[:num_train]\n",
    "X_test = data[num_train:]\n",
    "\n",
    "model = svm.SVC(kernel='linear',C=15).fit(X,y)\n",
    "#model = svm.SVC(kernel='poly',C=1, degree=2, probability=True).fit(X,y)\n",
    "#model = svm.SVC(kernel='rbf',C=100, gamma=4).fit(X,y)\n",
    "\n",
    "model.fit(X, y)\n",
    "pred = model.predict(X_test)\n",
    "print(metrics.confusion_matrix(pred, y_test))\n",
    "print(model.score(X_test,y_test))\n",
    "trial = data.head(1)\n",
    "print(model.predict(trial))\n",
    "print(\"test input(class): \", classes[1])\n",
    "print(\"test input(data): \")\n",
    "data.head(1)\n",
    "len(data)"
   ]
  },
  {
   "cell_type": "markdown",
   "metadata": {},
   "source": [
    "#### Learning Algorithm: Artificial Neural Network"
   ]
  },
  {
   "cell_type": "code",
   "execution_count": 7,
   "metadata": {},
   "outputs": [],
   "source": [
    "import pandas as pd\n",
    "\n",
    "data = pd.read_csv('philippine_file.csv')"
   ]
  },
  {
   "cell_type": "code",
   "execution_count": 8,
   "metadata": {},
   "outputs": [
    {
     "data": {
      "text/plain": [
       "0       0\n",
       "1       1\n",
       "2       0\n",
       "3       1\n",
       "4       0\n",
       "5       1\n",
       "6       0\n",
       "7       0\n",
       "8       0\n",
       "9       1\n",
       "10      0\n",
       "11      1\n",
       "12      0\n",
       "13      1\n",
       "14      0\n",
       "15      0\n",
       "16      1\n",
       "17      0\n",
       "18      0\n",
       "19      0\n",
       "20      0\n",
       "21      1\n",
       "22      1\n",
       "23      0\n",
       "24      0\n",
       "25      0\n",
       "26      0\n",
       "27      1\n",
       "28      0\n",
       "29      0\n",
       "       ..\n",
       "1977    0\n",
       "1978    0\n",
       "1979    1\n",
       "1980    0\n",
       "1981    1\n",
       "1982    1\n",
       "1983    0\n",
       "1984    0\n",
       "1985    1\n",
       "1986    0\n",
       "1987    1\n",
       "1988    0\n",
       "1989    1\n",
       "1990    0\n",
       "1991    0\n",
       "1992    0\n",
       "1993    0\n",
       "1994    0\n",
       "1995    1\n",
       "1996    1\n",
       "1997    0\n",
       "1998    0\n",
       "1999    1\n",
       "2000    0\n",
       "2001    0\n",
       "2002    0\n",
       "2003    0\n",
       "2004    0\n",
       "2005    1\n",
       "2006    1\n",
       "Name: positions_is_current, Length: 2007, dtype: int64"
      ]
     },
     "execution_count": 8,
     "metadata": {},
     "output_type": "execute_result"
    }
   ],
   "source": [
    "x = data.drop('positions_is_current',axis=1) #axis=1 tells the translator that a column will be dropped, 0 if row\n",
    "y = data['positions_is_current']\n",
    "y"
   ]
  },
  {
   "cell_type": "code",
   "execution_count": 9,
   "metadata": {},
   "outputs": [
    {
     "data": {
      "text/plain": [
       "array([[ 0.07407407,  1.        ,  0.        ,  1.        ,  1.        ],\n",
       "       [ 0.31481481,  0.        ,  0.002     ,  0.        ,  0.2       ],\n",
       "       [ 0.16666667,  1.        ,  0.02      ,  0.875     ,  1.        ],\n",
       "       ..., \n",
       "       [ 0.09259259,  1.        ,  0.194     ,  1.        ,  0.2       ],\n",
       "       [ 0.2037037 ,  1.        ,  0.046     ,  0.375     ,  1.        ],\n",
       "       [ 0.2962963 ,  1.        ,  0.018     ,  1.        ,  1.        ]])"
      ]
     },
     "execution_count": 9,
     "metadata": {},
     "output_type": "execute_result"
    }
   ],
   "source": [
    "from sklearn.model_selection import train_test_split\n",
    "\n",
    "x_train, x_test, y_train, y_test = train_test_split(x,y)\n",
    "\n",
    "from sklearn.preprocessing import StandardScaler\n",
    "from sklearn.preprocessing import MinMaxScaler\n",
    "scaler = MinMaxScaler()#StandardScaler()\n",
    "scaler.fit(x_train)\n",
    "\n",
    "x_train = scaler.transform(x_train)\n",
    "x_test = scaler.transform(x_test)\n",
    "x_test"
   ]
  },
  {
   "cell_type": "code",
   "execution_count": 10,
   "metadata": {},
   "outputs": [
    {
     "name": "stdout",
     "output_type": "stream",
     "text": [
      "[0 0 0 0 0 0 0 0 0 0 0 0 0 0 0 0 0 0 0 0 0 0 0 0 0 0 0 0 0 0 0 0 0 0 0 0 0\n",
      " 0 0 0 0 0 0 0 0 0 0 0 0 0 0 0 0 0 0 0 0 0 0 0 0 0 0 0 0 0 0 0 0 0 0 0 0 0\n",
      " 0 0 0 0 0 0 0 0 0 0 0 0 0 0 0 0 0 0 0 0 0 0 0 0 0 0 0 0 0 0 0 0 0 0 0 0 0\n",
      " 0 0 0 0 0 0 0 0 0 0 0 0 0 0 0 0 0 0 0 0 0 0 0 0 0 0 0 0 0 0 0 0 0 0 0 0 0\n",
      " 0 0 0 0 0 0 0 0 0 0 0 0 0 0 0 0 0 0 0 0 0 0 0 0 0 0 0 0 0 0 0 0 0 0 0 0 0\n",
      " 0 0 0 0 0 0 0 0 0 0 0 0 0 0 0 0 0 0 0 0 0 0 0 0 0 0 0 0 0 0 0 0 0 0 0 0 0\n",
      " 0 0 0 0 0 0 0 0 0 0 0 0 0 0 0 0 0 0 0 0 0 0 0 0 0 0 0 0 0 0 0 0 0 0 0 0 0\n",
      " 0 0 0 0 0 0 0 0 0 0 0 0 0 0 0 0 0 0 0 0 0 0 0 0 0 0 0 0 0 0 0 0 0 0 0 0 0\n",
      " 0 0 0 0 0 0 0 0 0 0 0 0 0 0 0 0 0 0 0 0 0 0 0 0 0 0 0 0 0 0 0 0 0 0 0 0 0\n",
      " 0 0 0 0 0 0 0 0 0 0 0 0 0 0 0 0 0 0 0 0 0 0 0 0 0 0 0 0 0 0 0 0 0 0 0 0 0\n",
      " 0 0 0 0 0 0 0 0 0 0 0 0 0 0 0 0 0 0 0 0 0 0 0 0 0 0 0 0 0 0 0 0 0 0 0 0 0\n",
      " 0 0 0 0 0 0 0 0 0 0 0 0 0 0 0 0 0 0 0 0 0 0 0 0 0 0 0 0 0 0 0 0 0 0 0 0 0\n",
      " 0 0 0 0 0 0 0 0 0 0 0 0 0 0 0 0 0 0 0 0 0 0 0 0 0 0 0 0 0 0 0 0 0 0 0 0 0\n",
      " 0 0 0 0 0 0 0 0 0 0 0 0 0 0 0 0 0 0 0 0 0]\n"
     ]
    }
   ],
   "source": [
    "from sklearn.neural_network import MLPClassifier\n",
    "\n",
    "mlp = MLPClassifier(hidden_layer_sizes=(5),max_iter=5000,learning_rate_init=0.1,activation='tanh')\n",
    "mlp.fit(x_train,y_train)\n",
    "\n",
    "predictions = mlp.predict(x_test)\n",
    "print(predictions)"
   ]
  },
  {
   "cell_type": "code",
   "execution_count": 11,
   "metadata": {},
   "outputs": [
    {
     "name": "stdout",
     "output_type": "stream",
     "text": [
      "[[389   0]\n",
      " [113   0]]\n",
      "             precision    recall  f1-score   support\n",
      "\n",
      "          0       0.77      1.00      0.87       389\n",
      "          1       0.00      0.00      0.00       113\n",
      "\n",
      "avg / total       0.60      0.77      0.68       502\n",
      "\n"
     ]
    },
    {
     "name": "stderr",
     "output_type": "stream",
     "text": [
      "/Users/zenitharnejo/anaconda/lib/python3.6/site-packages/sklearn/metrics/classification.py:1113: UndefinedMetricWarning: Precision and F-score are ill-defined and being set to 0.0 in labels with no predicted samples.\n",
      "  'precision', 'predicted', average, warn_for)\n"
     ]
    }
   ],
   "source": [
    "from sklearn.metrics import classification_report,confusion_matrix\n",
    "\n",
    "print (confusion_matrix(y_test,predictions))\n",
    "print(classification_report(y_test,predictions))"
   ]
  },
  {
   "cell_type": "markdown",
   "metadata": {},
   "source": [
    "## Prediction of work specialization based on field of study, school, year after graduation, educations-end_date"
   ]
  },
  {
   "cell_type": "markdown",
   "metadata": {},
   "source": [
    "#### Learning Algorithm: Multinomial Naive Bayes"
   ]
  },
  {
   "cell_type": "code",
   "execution_count": 12,
   "metadata": {},
   "outputs": [
    {
     "data": {
      "text/html": [
       "<div>\n",
       "<style>\n",
       "    .dataframe thead tr:only-child th {\n",
       "        text-align: right;\n",
       "    }\n",
       "\n",
       "    .dataframe thead th {\n",
       "        text-align: left;\n",
       "    }\n",
       "\n",
       "    .dataframe tbody tr th {\n",
       "        vertical-align: top;\n",
       "    }\n",
       "</style>\n",
       "<table border=\"1\" class=\"dataframe\">\n",
       "  <thead>\n",
       "    <tr style=\"text-align: right;\">\n",
       "      <th></th>\n",
       "      <th>educations-end_date</th>\n",
       "      <th>educations-field_of_study</th>\n",
       "      <th>num-connections</th>\n",
       "      <th>industry-specialization</th>\n",
       "      <th>educations-school-name_asnumeric</th>\n",
       "      <th>positions_is_current</th>\n",
       "    </tr>\n",
       "  </thead>\n",
       "  <tbody>\n",
       "    <tr>\n",
       "      <th>0</th>\n",
       "      <td>1</td>\n",
       "      <td>8</td>\n",
       "      <td>0</td>\n",
       "      <td>4</td>\n",
       "      <td>10</td>\n",
       "      <td>0</td>\n",
       "    </tr>\n",
       "    <tr>\n",
       "      <th>1</th>\n",
       "      <td>2</td>\n",
       "      <td>8</td>\n",
       "      <td>3</td>\n",
       "      <td>5</td>\n",
       "      <td>10</td>\n",
       "      <td>1</td>\n",
       "    </tr>\n",
       "    <tr>\n",
       "      <th>2</th>\n",
       "      <td>27</td>\n",
       "      <td>5</td>\n",
       "      <td>36</td>\n",
       "      <td>3</td>\n",
       "      <td>9</td>\n",
       "      <td>0</td>\n",
       "    </tr>\n",
       "    <tr>\n",
       "      <th>3</th>\n",
       "      <td>20</td>\n",
       "      <td>0</td>\n",
       "      <td>0</td>\n",
       "      <td>0</td>\n",
       "      <td>4</td>\n",
       "      <td>1</td>\n",
       "    </tr>\n",
       "    <tr>\n",
       "      <th>4</th>\n",
       "      <td>12</td>\n",
       "      <td>8</td>\n",
       "      <td>5</td>\n",
       "      <td>4</td>\n",
       "      <td>9</td>\n",
       "      <td>0</td>\n",
       "    </tr>\n",
       "  </tbody>\n",
       "</table>\n",
       "</div>"
      ],
      "text/plain": [
       "   educations-end_date  educations-field_of_study  num-connections  \\\n",
       "0                    1                          8                0   \n",
       "1                    2                          8                3   \n",
       "2                   27                          5               36   \n",
       "3                   20                          0                0   \n",
       "4                   12                          8                5   \n",
       "\n",
       "   industry-specialization  educations-school-name_asnumeric  \\\n",
       "0                        4                                10   \n",
       "1                        5                                10   \n",
       "2                        3                                 9   \n",
       "3                        0                                 4   \n",
       "4                        4                                 9   \n",
       "\n",
       "   positions_is_current  \n",
       "0                     0  \n",
       "1                     1  \n",
       "2                     0  \n",
       "3                     1  \n",
       "4                     0  "
      ]
     },
     "execution_count": 12,
     "metadata": {},
     "output_type": "execute_result"
    }
   ],
   "source": [
    "import pandas as pd\n",
    "\n",
    "data = pd.read_csv('philippine_file.csv')\n",
    "data.head()"
   ]
  },
  {
   "cell_type": "code",
   "execution_count": 13,
   "metadata": {},
   "outputs": [
    {
     "name": "stdout",
     "output_type": "stream",
     "text": [
      "X_train  (4212,)\n",
      "y_train  (1404,)\n"
     ]
    }
   ],
   "source": [
    "from sklearn.model_selection import train_test_split\n",
    "X_train, X_test, y_train, y_test = train_test_split(data[['educations-field_of_study', 'educations-school-name_asnumeric', 'educations-end_date']], data[['industry-specialization']], test_size=0.3, random_state=427)\n",
    "\n",
    "y_train = y_train.values.flatten() # Just some trivial data formatting..\n",
    "y_test = y_test.values.flatten()\n",
    "X_train = X_train.values.flatten() # Just some trivial data formatting..\n",
    "X_test = X_test.values.flatten()\n",
    "\n",
    "print(\"X_train \", X_train.shape)\n",
    "print(\"y_train \", y_train.shape)\n",
    "\n"
   ]
  },
  {
   "cell_type": "code",
   "execution_count": 14,
   "metadata": {},
   "outputs": [],
   "source": [
    "# Importing packages necessary for building the model\n",
    "from sklearn.feature_extraction.text import CountVectorizer #converts the content to vector\n",
    "from sklearn.naive_bayes import MultinomialNB \n",
    "from sklearn.pipeline import Pipeline #vectorize then multinomialNB; as in a pipelined steps\n",
    "\n",
    "text_clf = Pipeline([('vect_tfid', CountVectorizer()),\n",
    "                     ('clf', MultinomialNB())]) #alpha automatically signals laplace correction, include alpha as parameter\n",
    "\n",
    "##text_clf = text_clf.fit(X_train, y_train) #fit the model to the training set\n"
   ]
  },
  {
   "cell_type": "code",
   "execution_count": 15,
   "metadata": {},
   "outputs": [],
   "source": [
    "#text_clf is the generated model\n",
    "# y_predicted = text_clf.predict(X_test) #get predicted classes\n",
    "# y_predicted"
   ]
  },
  {
   "cell_type": "markdown",
   "metadata": {},
   "source": [
    "#### Learning Algorithm: Support Vector Machines (SVM)"
   ]
  },
  {
   "cell_type": "code",
   "execution_count": 16,
   "metadata": {},
   "outputs": [
    {
     "name": "stdout",
     "output_type": "stream",
     "text": [
      "[[  0   0   0   0   0   0   0   0   0]\n",
      " [  0   0   0   0   0   0   0   0   0]\n",
      " [  0   0   0   0   0   0   0   0   0]\n",
      " [ 49  16  24  97  12  17   3  20  75]\n",
      " [  0   0   0   0   0   0   0   0   0]\n",
      " [  0   0   0   0   0   0   0   0   0]\n",
      " [  0   0   0   0   0   0   0   0   0]\n",
      " [  0   0   0   0   0   0   0   0   0]\n",
      " [ 68  20  19  86  26   8  44  61 158]]\n"
     ]
    },
    {
     "name": "stderr",
     "output_type": "stream",
     "text": [
      "/Users/zenitharnejo/anaconda/lib/python3.6/site-packages/sklearn/utils/validation.py:429: DataConversionWarning: Data with input dtype int64 was converted to float64 by MinMaxScaler.\n",
      "  warnings.warn(msg, _DataConversionWarning)\n"
     ]
    },
    {
     "name": "stdout",
     "output_type": "stream",
     "text": [
      "0.317559153176\n",
      "[8]\n",
      "test input(class):  8\n"
     ]
    }
   ],
   "source": [
    "import pandas as pd\n",
    "from sklearn import preprocessing\n",
    "\n",
    "filedata = 'philippine_file.csv'\n",
    "data = pd.read_csv(filedata)\n",
    "\n",
    "del data[\"num-connections\"]\n",
    "del data[\"positions_is_current\"]\n",
    "del data[\"educations-end_date\"]\n",
    "\n",
    "n = len(data)\n",
    "num_train = int(0.60*n)\n",
    "\n",
    "data = data.sample(frac=1).reset_index(drop=True)\n",
    "classes = data[\"industry-specialization\"]\n",
    "\n",
    "y = data[\"industry-specialization\"][:num_train]\n",
    "y_test = data[\"industry-specialization\"][num_train:]\n",
    "del data[\"industry-specialization\"]\n",
    "\n",
    "x = data.values #returns a numpy array\n",
    "min_max_scaler = preprocessing.MinMaxScaler()\n",
    "x_scaled = min_max_scaler.fit_transform(x)\n",
    "data = pd.DataFrame(x_scaled)\n",
    "\n",
    "X = data[:num_train]\n",
    "X_test = data[num_train:]\n",
    "\n",
    "model = svm.SVC(kernel='linear',C=100).fit(X,y)\n",
    "#model = svm.SVC(kernel='poly',C=200, degree=2, probability=True).fit(X,y)\n",
    "#model = svm.SVC(kernel='rbf',C=100, gamma=5, ).fit(X,y)\n",
    "\n",
    "pred = model.predict(X_test)\n",
    "print(metrics.confusion_matrix(pred, y_test))\n",
    "print(model.score(X_test,y_test))\n",
    "trial = data.head(1)\n",
    "print(model.predict(trial))\n",
    "print(\"test input(class): \", classes[1])"
   ]
  },
  {
   "cell_type": "markdown",
   "metadata": {},
   "source": [
    "#### Learning Algorithm: Artificial Neural Network"
   ]
  },
  {
   "cell_type": "code",
   "execution_count": 17,
   "metadata": {},
   "outputs": [],
   "source": [
    "import pandas as pd\n",
    "\n",
    "data = pd.read_csv('philippine_file.csv')"
   ]
  },
  {
   "cell_type": "code",
   "execution_count": 18,
   "metadata": {},
   "outputs": [
    {
     "data": {
      "text/plain": [
       "0       4\n",
       "1       5\n",
       "2       3\n",
       "3       0\n",
       "4       4\n",
       "5       4\n",
       "6       3\n",
       "7       3\n",
       "8       3\n",
       "9       7\n",
       "10      1\n",
       "11      3\n",
       "12      4\n",
       "13      7\n",
       "14      6\n",
       "15      3\n",
       "16      8\n",
       "17      8\n",
       "18      0\n",
       "19      0\n",
       "20      3\n",
       "21      3\n",
       "22      7\n",
       "23      3\n",
       "24      2\n",
       "25      3\n",
       "26      3\n",
       "27      7\n",
       "28      4\n",
       "29      4\n",
       "       ..\n",
       "1977    3\n",
       "1978    3\n",
       "1979    7\n",
       "1980    0\n",
       "1981    0\n",
       "1982    3\n",
       "1983    3\n",
       "1984    3\n",
       "1985    6\n",
       "1986    8\n",
       "1987    7\n",
       "1988    7\n",
       "1989    4\n",
       "1990    6\n",
       "1991    8\n",
       "1992    8\n",
       "1993    8\n",
       "1994    1\n",
       "1995    7\n",
       "1996    4\n",
       "1997    1\n",
       "1998    8\n",
       "1999    8\n",
       "2000    0\n",
       "2001    0\n",
       "2002    3\n",
       "2003    3\n",
       "2004    0\n",
       "2005    8\n",
       "2006    3\n",
       "Name: industry-specialization, Length: 2007, dtype: int64"
      ]
     },
     "execution_count": 18,
     "metadata": {},
     "output_type": "execute_result"
    }
   ],
   "source": [
    "del data[\"num-connections\"]\n",
    "del data[\"positions_is_current\"]\n",
    "\n",
    "x = data.drop('industry-specialization',axis=1) #axis=1 tells the translator that a column will be dropped, 0 if row\n",
    "y = data['industry-specialization']\n",
    "y"
   ]
  },
  {
   "cell_type": "code",
   "execution_count": 19,
   "metadata": {},
   "outputs": [
    {
     "data": {
      "text/plain": [
       "array([[ 0.28846154,  0.375     ,  0.3       ],\n",
       "       [ 0.19230769,  1.        ,  0.9       ],\n",
       "       [ 0.25      ,  1.        ,  0.9       ],\n",
       "       ..., \n",
       "       [ 0.32692308,  1.        ,  0.4       ],\n",
       "       [ 0.19230769,  1.        ,  0.9       ],\n",
       "       [ 0.11538462,  0.5       ,  0.9       ]])"
      ]
     },
     "execution_count": 19,
     "metadata": {},
     "output_type": "execute_result"
    }
   ],
   "source": [
    "from sklearn.model_selection import train_test_split\n",
    "\n",
    "x_train, x_test, y_train, y_test = train_test_split(x,y)\n",
    "\n",
    "from sklearn.preprocessing import StandardScaler\n",
    "from sklearn.preprocessing import MinMaxScaler\n",
    "scaler = MinMaxScaler()#StandardScaler()\n",
    "scaler.fit(x_train)\n",
    "\n",
    "x_train = scaler.transform(x_train)\n",
    "x_test = scaler.transform(x_test)\n",
    "x_test"
   ]
  },
  {
   "cell_type": "code",
   "execution_count": 20,
   "metadata": {},
   "outputs": [
    {
     "name": "stdout",
     "output_type": "stream",
     "text": [
      "[3 8 8 8 8 8 8 8 3 8 8 3 3 3 3 8 8 8 0 8 3 8 8 3 3 8 8 8 8 0 3 3 8 3 3 8 8\n",
      " 8 8 3 3 8 8 3 8 8 8 8 8 8 8 8 3 0 8 8 8 8 8 3 3 8 8 3 8 8 8 0 8 8 8 8 8 8\n",
      " 8 8 8 8 8 3 8 3 0 8 0 3 8 3 0 8 0 3 3 0 8 8 3 8 8 8 3 8 8 8 3 8 8 8 8 8 3\n",
      " 8 8 3 8 3 3 8 8 8 3 8 8 8 8 3 8 8 8 3 3 3 3 3 8 8 8 3 8 3 8 0 8 3 3 8 8 8\n",
      " 8 8 8 8 3 8 3 8 3 8 3 3 8 8 8 8 8 0 3 8 8 8 8 8 8 8 3 3 8 3 8 8 8 3 0 8 8\n",
      " 0 8 3 8 3 0 8 8 8 8 3 3 8 8 8 3 8 8 8 8 3 8 3 8 8 3 3 3 8 8 8 8 8 8 0 8 8\n",
      " 8 3 8 8 8 3 8 3 8 8 3 3 8 3 3 3 8 8 3 8 8 8 8 3 3 8 8 8 8 3 8 8 8 0 3 8 8\n",
      " 8 8 8 8 8 0 8 8 8 3 3 8 8 8 8 8 3 0 8 0 8 3 8 8 8 3 8 8 8 8 3 3 3 8 3 8 8\n",
      " 8 8 0 3 8 8 8 8 8 3 8 8 8 8 3 3 8 3 8 8 8 3 3 8 3 3 8 8 8 8 8 8 3 3 0 0 8\n",
      " 8 8 0 8 8 8 8 8 0 3 3 8 8 8 8 8 8 0 8 8 8 8 0 8 3 8 8 8 8 3 3 8 8 8 8 0 3\n",
      " 8 3 8 8 3 8 8 8 0 3 3 8 0 8 8 8 3 8 8 3 8 3 3 8 3 8 8 8 8 8 8 0 3 8 8 8 3\n",
      " 3 8 3 3 8 3 3 8 8 8 8 8 8 8 8 8 8 8 8 3 3 3 3 8 8 3 8 8 8 8 3 8 8 8 8 8 8\n",
      " 8 8 8 3 8 8 8 8 3 3 3 3 8 8 8 8 8 3 8 3 8 8 8 3 3 3 8 8 8 3 8 8 3 3 8 8 0\n",
      " 8 0 8 0 3 8 3 3 0 8 8 8 0 8 8 8 8 8 8 8 3]\n"
     ]
    }
   ],
   "source": [
    "from sklearn.neural_network import MLPClassifier\n",
    "\n",
    "mlp = MLPClassifier(hidden_layer_sizes=(5),max_iter=5000,learning_rate_init=0.1,activation='tanh')\n",
    "mlp.fit(x_train,y_train)\n",
    "\n",
    "predictions = mlp.predict(x_test)\n",
    "print(predictions)"
   ]
  },
  {
   "cell_type": "code",
   "execution_count": 21,
   "metadata": {},
   "outputs": [
    {
     "name": "stdout",
     "output_type": "stream",
     "text": [
      "[[ 20   0   0   5   0   0   0   0  34]\n",
      " [  1   0   0   7   0   0   0   0  15]\n",
      " [  0   0   0   4   0   0   0   0  17]\n",
      " [  1   0   0  52   0   0   0   0  52]\n",
      " [  2   0   0   7   0   0   0   0  20]\n",
      " [  0   0   0  10   0   0   0   0   7]\n",
      " [  0   0   0   7   0   0   0   0  30]\n",
      " [  7   0   0  15   0   0   0   0  46]\n",
      " [  4   0   0  35   0   0   0   0 104]]\n",
      "             precision    recall  f1-score   support\n",
      "\n",
      "          0       0.57      0.34      0.43        59\n",
      "          1       0.00      0.00      0.00        23\n",
      "          2       0.00      0.00      0.00        21\n",
      "          3       0.37      0.50      0.42       105\n",
      "          4       0.00      0.00      0.00        29\n",
      "          5       0.00      0.00      0.00        17\n",
      "          6       0.00      0.00      0.00        37\n",
      "          7       0.00      0.00      0.00        68\n",
      "          8       0.32      0.73      0.44       143\n",
      "\n",
      "avg / total       0.23      0.35      0.26       502\n",
      "\n"
     ]
    },
    {
     "name": "stderr",
     "output_type": "stream",
     "text": [
      "/Users/zenitharnejo/anaconda/lib/python3.6/site-packages/sklearn/metrics/classification.py:1113: UndefinedMetricWarning: Precision and F-score are ill-defined and being set to 0.0 in labels with no predicted samples.\n",
      "  'precision', 'predicted', average, warn_for)\n"
     ]
    }
   ],
   "source": [
    "from sklearn.metrics import classification_report,confusion_matrix\n",
    "\n",
    "print (confusion_matrix(y_test,predictions))\n",
    "print(classification_report(y_test,predictions))"
   ]
  }
 ],
 "metadata": {
  "kernelspec": {
   "display_name": "Python 3",
   "language": "python",
   "name": "python3"
  },
  "language_info": {
   "codemirror_mode": {
    "name": "ipython",
    "version": 3
   },
   "file_extension": ".py",
   "mimetype": "text/x-python",
   "name": "python",
   "nbconvert_exporter": "python",
   "pygments_lexer": "ipython3",
   "version": "3.6.1"
  }
 },
 "nbformat": 4,
 "nbformat_minor": 2
}
